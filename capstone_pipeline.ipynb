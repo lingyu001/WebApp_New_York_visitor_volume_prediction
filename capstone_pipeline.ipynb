{
 "cells": [
  {
   "cell_type": "markdown",
   "metadata": {},
   "source": [
    "# Introduction"
   ]
  },
  {
   "cell_type": "markdown",
   "metadata": {},
   "source": [
    "**The notebook include:**\n",
    "1. Library and Functions\n",
    "2. Data cleaning\n",
    "3. Data aggragation\n",
    "4. Feature engineering along the way\n",
    "5. Model pipeline"
   ]
  },
  {
   "cell_type": "markdown",
   "metadata": {},
   "source": [
    "# Import library"
   ]
  },
  {
   "cell_type": "code",
   "execution_count": 1,
   "metadata": {},
   "outputs": [],
   "source": [
    "import pandas as pd\n",
    "import numpy as np"
   ]
  },
  {
   "cell_type": "code",
   "execution_count": 2,
   "metadata": {},
   "outputs": [],
   "source": [
    "## Shpae and geometry\n",
    "from shapely.geometry import Point\n",
    "# import shapefile as shp\n",
    "# import pyshp as shp"
   ]
  },
  {
   "cell_type": "code",
   "execution_count": 3,
   "metadata": {},
   "outputs": [],
   "source": [
    "## Request and Json\n",
    "import requests\n",
    "import json\n",
    "from pandas.io.json import json_normalize\n",
    "from requests_futures.sessions import FuturesSession"
   ]
  },
  {
   "cell_type": "code",
   "execution_count": 4,
   "metadata": {},
   "outputs": [],
   "source": [
    "## datatime\n",
    "import datetime as dt\n",
    "# from pytz import timezone"
   ]
  },
  {
   "cell_type": "code",
   "execution_count": 345,
   "metadata": {},
   "outputs": [],
   "source": [
    "## intervative plotting\n",
    "import matplotlib.pyplot as plt\n",
    "import seaborn as sns\n",
    "\n",
    "import altair as alt\n",
    "alt.renderers.enable('notebook')\n",
    "import folium"
   ]
  },
  {
   "cell_type": "code",
   "execution_count": 6,
   "metadata": {},
   "outputs": [
    {
     "name": "stdout",
     "output_type": "stream",
     "text": [
      "Requirement already satisfied: geopandas in /home/jovyan/conda-envs/cap_lly/lib/python3.6/site-packages (0.5.0)\n",
      "Requirement already satisfied: pyproj in /home/jovyan/conda-envs/cap_lly/lib/python3.6/site-packages (from geopandas) (2.2.1)\n",
      "Requirement already satisfied: shapely in /home/jovyan/conda-envs/cap_lly/lib/python3.6/site-packages (from geopandas) (1.6.4.post2)\n",
      "Requirement already satisfied: pandas in /home/jovyan/conda-envs/cap_lly/lib/python3.6/site-packages (from geopandas) (0.23.3)\n",
      "Requirement already satisfied: fiona in /home/jovyan/conda-envs/cap_lly/lib/python3.6/site-packages (from geopandas) (1.8.6)\n",
      "Requirement already satisfied: python-dateutil>=2.5.0 in /home/jovyan/conda-envs/cap_lly/lib/python3.6/site-packages (from pandas->geopandas) (2.8.0)\n",
      "Requirement already satisfied: pytz>=2011k in /home/jovyan/conda-envs/cap_lly/lib/python3.6/site-packages (from pandas->geopandas) (2019.1)\n",
      "Requirement already satisfied: numpy>=1.9.0 in /home/jovyan/conda-envs/cap_lly/lib/python3.6/site-packages (from pandas->geopandas) (1.15.2)\n",
      "Requirement already satisfied: click<8,>=4.0 in /home/jovyan/conda-envs/cap_lly/lib/python3.6/site-packages (from fiona->geopandas) (7.0)\n",
      "Requirement already satisfied: attrs>=17 in /home/jovyan/conda-envs/cap_lly/lib/python3.6/site-packages (from fiona->geopandas) (19.1.0)\n",
      "Requirement already satisfied: munch in /home/jovyan/conda-envs/cap_lly/lib/python3.6/site-packages (from fiona->geopandas) (2.3.2)\n",
      "Requirement already satisfied: click-plugins>=1.0 in /home/jovyan/conda-envs/cap_lly/lib/python3.6/site-packages (from fiona->geopandas) (1.1.1)\n",
      "Requirement already satisfied: cligj>=0.5 in /home/jovyan/conda-envs/cap_lly/lib/python3.6/site-packages (from fiona->geopandas) (0.5.0)\n",
      "Requirement already satisfied: six>=1.7 in /home/jovyan/conda-envs/cap_lly/lib/python3.6/site-packages (from fiona->geopandas) (1.12.0)\n"
     ]
    }
   ],
   "source": [
    "## geopandas\n",
    "import sys\n",
    "!{sys.executable} -m pip install geopandas\n",
    "import geopandas as gpd"
   ]
  },
  {
   "cell_type": "code",
   "execution_count": 748,
   "metadata": {},
   "outputs": [
    {
     "data": {
      "text/plain": [
       "4072"
      ]
     },
     "execution_count": 748,
     "metadata": {},
     "output_type": "execute_result"
    }
   ],
   "source": [
    "# import gc\n",
    "gc.collect()"
   ]
  },
  {
   "cell_type": "markdown",
   "metadata": {},
   "source": [
    "# Functions"
   ]
  },
  {
   "cell_type": "code",
   "execution_count": 9,
   "metadata": {},
   "outputs": [],
   "source": [
    "## function to create point from lat long\n",
    "def point_trans(x):\n",
    "    return Point(x[0],x[1])"
   ]
  },
  {
   "cell_type": "code",
   "execution_count": 129,
   "metadata": {},
   "outputs": [],
   "source": [
    "def manhattan_zip(x):    \n",
    "    m_zip = [10286,10276,10268,10256,10249,10159,10150,10116,10113,10108,10101,10008,10282,10281,10280,10279,10278,\n",
    "         10271,10270,10199,10178,10177,10176,10175,10174,10173,10172,10171,10170,10169,10168,10167,10166,10165,\n",
    "         10162,10161,10158,10155,10154,10153,10152,10151,10128,10123,10122,10121,10120,10119,10118,10115,10112,\n",
    "         10111,10110,10107,10106,10105,10104,10103,10099,10098,10095,10090,10069,10060,10055,10048,10045,10044,\n",
    "         10041,10040,10039,10038,10037,10036,10035,10034,10033,10032,10031,10030,10029,10028,10027,10026,10025,\n",
    "         10024,10023,10022,10021,10020,10019,10018,10017,10016,10015,10014,10013,10012,10011,10010,10009,10007,\n",
    "         10006,10005,10003,10002,10001,10065,10075,10004]\n",
    "    if x in m_zip:\n",
    "        return 1\n",
    "    else:\n",
    "        return 0\n",
    "\n",
    "def brooklyn_zip(x):\n",
    "    brooklyn_zip = [11256,11252,11249,11243,11242,11241,11239,11238,11237,11236,11235,11234,11233,11232,11231,\n",
    "                    11230,11229,11228,11226,11225,11224,11223,11222,11221,11220,11219,11218,11217,11216,11215,\n",
    "                    11214,11213,11212,11211,11210,11209,11208,11207,11206,11205,11204,11203,11201]\n",
    "    if x in brooklyn_zip:\n",
    "        return 1\n",
    "    else:\n",
    "        return 0\n",
    "def queens_zip(x):\n",
    "    queens_zip = [11436,11435,11434,11433,11432,11429,11428,11427,11426,\n",
    "                  11423,11422,11421,11420,11419,11418,11417,11416,11415,11414,11413,11412,11411,11385,11379,\n",
    "                  11378,11377,11375,11374,11373,11372,11369,11368,11367,11366,11365,11364,11363,\n",
    "                  11362,11361,11360,11359,11358,11357,11356,11355,11354,11351,11109,11106,11105,11104,11103,\n",
    "                  11102,11101,11004]\n",
    "    if x in queens_zip:\n",
    "        return 1\n",
    "    else:\n",
    "        return 0\n",
    "    ### two airport:11430,11371,the islands:11370,11697,11694,11693,11692,11691, are not fully covered by the check-in data"
   ]
  },
  {
   "cell_type": "code",
   "execution_count": 781,
   "metadata": {},
   "outputs": [],
   "source": [
    "def valid_zip(x):\n",
    "    m_zip = [83,10286,10276,10268,10256,10249,10159,10150,10116,10113,10108,10101,10008,10282,10281,10280,10279,10278,10275,\n",
    "         10271,10270,10199,10178,10177,10176,10175,10174,10173,10172,10171,10170,10169,10168,10167,10166,10165,\n",
    "         10162,10161,10158,10155,10154,10153,10152,10151,10128,10123,10122,10121,10120,10119,10118,10115,10112,\n",
    "         10111,10110,10107,10106,10105,10104,10103,10099,10098,10095,10090,10069,10060,10055,10048,10047,10045,10044,\n",
    "         10041,10040,10039,10038,10037,10036,10035,10034,10033,10032,10031,10030,10029,10028,10027,10026,10025,\n",
    "         10024,10023,10022,10021,10020,10019,10018,10017,10016,10015,10014,10013,10012,10011,10010,10009,10007,\n",
    "         10006,10005,10004,10003,10002,10001,10065,10075,10080,\n",
    "             10285,10203,10178,10017,10178,10168,10167,10177,# supplementary\n",
    "             10175,10166,10171,10176,10174,10165,10170,10173,10169,10172,10019, 10105, 10097, 10104, 10107, 10103, 10106,\n",
    "           10022, 10055, 10155, 10152, 10153, 10151, 10154, 10001, 10120, 10119, 10118, 10123, 10122, 10121,\n",
    "             10005, 10081, 10286, 10260, 10271, 10259, 10043, 10270, 10265, 10203,10036, 10096, 10196, 10110,\n",
    "            ]\n",
    "    brooklyn_zip = [11256,11252,11249,11243,11242,11241,11239,11238,11237,11236,11235,11234,11233,11232,11231,\n",
    "                    11230,11229,11228,11226,11225,11224,11223,11222,11221,11220,11219,11218,11217,11216,11215,\n",
    "                    11214,11213,11212,11211,11210,11209,11208,11207,11206,11205,11204,11203,11201]\n",
    "    queens_zip = [11451,11436,11435,11434,11433,11432,11429,11428,11427,11426,\n",
    "                  11423,11422,11421,11420,11419,11418,11417,11416,11415,11414,11413,11412,11411,11385,11379,\n",
    "                  11378,11377,11375,11374,11373,11372,11369,11368,11367,11366,11365,11364,11363,\n",
    "                  11362,11361,11360,11359,11358,11357,11356,11355,11354,11351,11109,11106,11105,11104,11103,\n",
    "                  11102,11101,11004]\n",
    "    if x in (m_zip + brooklyn_zip + queens_zip):\n",
    "        return 1\n",
    "    else:\n",
    "        return 0\n",
    "    "
   ]
  },
  {
   "cell_type": "code",
   "execution_count": 754,
   "metadata": {},
   "outputs": [],
   "source": [
    "def point_in_zip(x):\n",
    "    point = Point(x[0],x[1])\n",
    "    y = None\n",
    "    for ind,val in enumerate(gpd_zip['geometry']):\n",
    "        if point.within(val):\n",
    "            y = int(gpd_zip['ZIPCODE'].iloc[ind])\n",
    "    return y\n",
    "#     else: return 'Location out of prediction range!'"
   ]
  },
  {
   "cell_type": "code",
   "execution_count": 423,
   "metadata": {},
   "outputs": [],
   "source": [
    "## change the ziprow to the first item in the overlap zip list\n",
    "def recombine_zip(x):\n",
    "#     overlap_zip = dill.load(open('overlap_zip.dill', 'rb'))\n",
    "    overlap_zip = {10118: 10001, 10119: 10001, 10120: 10001, 10121: 10001, 10122: 10001, 10123: 10001, 10041: 10004, 10275: 10004,\n",
    "                   10043: 10005, 10081: 10005, 10203: 10005, 10259: 10005, 10260: 10005, 10265: 10005, 10270: 10005, 10271: 10005,\n",
    "                   10286: 10005, 10278: 10007, 10279: 10007, 10047: 10010, 10158: 10016, 10165: 10017, 10166: 10017, 10167: 10017,\n",
    "                   10168: 10017, 10169: 10017, 10170: 10017, 10171: 10017, 10172: 10017, 10173: 10017, 10174: 10017, 10175: 10017,\n",
    "                   10176: 10017, 10177: 10017, 10178: 10017, 10097: 10019, 10103: 10019, 10104: 10019, 10105: 10019, 10106: 10019,\n",
    "                   10107: 10019, 10111: 10019, 10020: 10019, 10112: 10019, 10162: 10021, 10055: 10022, 10151: 10022, 10152: 10022,\n",
    "                   10153: 10022, 10154: 10022, 10155: 10022, 10096: 10036, 10110: 10036, 10196: 10036, 10045: 10038, 10080: 10048,\n",
    "                   10285: 10281, 10069: 10023, 11451: 11433, 10115: 10027, 11109:11101,}\n",
    "     \n",
    "    if x in overlap_zip.keys():\n",
    "        return overlap_zip[x]\n",
    "    if x in overlap_zip.values():\n",
    "        return x\n",
    "    else:\n",
    "        return x"
   ]
  },
  {
   "cell_type": "code",
   "execution_count": 424,
   "metadata": {},
   "outputs": [],
   "source": [
    "dill.dump(overlap_zip, open('overlap_zip.dill', 'wb'))"
   ]
  },
  {
   "cell_type": "markdown",
   "metadata": {},
   "source": [
    "# Read and write data"
   ]
  },
  {
   "cell_type": "markdown",
   "metadata": {},
   "source": [
    "**NYC check-ins**"
   ]
  },
  {
   "cell_type": "code",
   "execution_count": null,
   "metadata": {},
   "outputs": [],
   "source": [
    "## raw check-in data\n",
    "nyc_checkin = pd.read_csv('dataset_TSMC2014_NYC.csv')"
   ]
  },
  {
   "cell_type": "code",
   "execution_count": null,
   "metadata": {},
   "outputs": [],
   "source": [
    "## cleaned check-in data\n",
    "nyc_checkin_upd = pd.read_csv('nyc_checkin_upd_0725.csv')"
   ]
  },
  {
   "cell_type": "code",
   "execution_count": null,
   "metadata": {},
   "outputs": [],
   "source": [
    "nyc_checkin_upd.datetime.min(),nyc_checkin_upd.datetime.max()"
   ]
  },
  {
   "cell_type": "code",
   "execution_count": null,
   "metadata": {},
   "outputs": [],
   "source": [
    "nyc_checkin.to_csv('nyc_checkin_full_0725.csv')\n",
    "nyc_checkin_upd.to_csv('nyc_checkin_upd_0725.csv')"
   ]
  },
  {
   "cell_type": "markdown",
   "metadata": {},
   "source": [
    "**Zipcode geo-shapes**"
   ]
  },
  {
   "cell_type": "code",
   "execution_count": 782,
   "metadata": {},
   "outputs": [
    {
     "data": {
      "text/plain": [
       "263"
      ]
     },
     "execution_count": 782,
     "metadata": {},
     "output_type": "execute_result"
    }
   ],
   "source": [
    "## zipocde shape\n",
    "gpd_zip = gpd.read_file('/home/jovyan/capstone_project/zip_area/ZIP_CODE_040114.shp').to_crs(epsg=4326)\n",
    "len(gpd_zip)"
   ]
  },
  {
   "cell_type": "code",
   "execution_count": 783,
   "metadata": {},
   "outputs": [
    {
     "data": {
      "image/svg+xml": [
       "<svg xmlns=\"http://www.w3.org/2000/svg\" xmlns:xlink=\"http://www.w3.org/1999/xlink\" width=\"100.0\" height=\"100.0\" viewBox=\"-73.80663995968884 40.66572581037563 0.019377755715836997 0.021370046802296372\" preserveAspectRatio=\"xMinYMin meet\"><g transform=\"matrix(1,0,0,-1,0,81.35282166755357)\"><path fill-rule=\"evenodd\" fill=\"#66cc99\" stroke=\"#555555\" stroke-width=\"0.00042740093604592744\" opacity=\"0.6\" d=\"M -73.80584847647394,40.682909326442505 L -73.80569084187866,40.68295409607728 L -73.80558491738391,40.682984179006645 L -73.80519208513209,40.68309574865641 L -73.80432350431623,40.68334147919677 L -73.80344526934498,40.68359154609277 L -73.80256429248011,40.683842129287356 L -73.8016857135081,40.68409164636375 L -73.80077393772204,40.684349617247804 L -73.79986118047651,40.68460983139521 L -73.79951282470476,40.68470793866539 L -73.79943000556948,40.68473105107073 L -73.79935330467507,40.68475334921217 L -73.79898208480098,40.6848584219229 L -73.79857367404858,40.6849760346677 L -73.79810429772554,40.68510905580817 L -73.79768649518888,40.68522769172515 L -73.79722521981566,40.685359143118504 L -73.7963476930964,40.68560812062851 L -73.79546939850096,40.68585653987038 L -73.79457785141184,40.68610616786593 L -73.79402605136845,40.68626576333833 L -73.79396353746253,40.68628628224999 L -73.79390841279687,40.68630437396303 L -73.79384965258745,40.68620927506414 L -73.79325349202304,40.685437072776594 L -73.79280097961775,40.68484163805625 L -73.79276986289744,40.6847976026061 L -73.79274952588888,40.68474194468762 L -73.79272053476551,40.68464737247244 L -73.7926261366266,40.684370860934486 L -73.79258952112383,40.68424265236015 L -73.79257450383176,40.68416578872891 L -73.7925693901921,40.68402996092396 L -73.79256880529516,40.683477578575726 L -73.79258158773969,40.683389052030535 L -73.79258728533074,40.68329111041978 L -73.7926704923892,40.68271196799278 L -73.79267114800999,40.68261637753919 L -73.79267323632763,40.682516539227585 L -73.79266340595551,40.68247976062667 L -73.79258924146541,40.68221037430252 L -73.79257645674525,40.682163942232144 L -73.7925092268433,40.68191973328316 L -73.79248894892055,40.68184772021981 L -73.79228664806945,40.68114567439118 L -73.79227229354521,40.681093716577095 L -73.79209251655749,40.68047597235489 L -73.7920037328603,40.680166742809554 L -73.79186822208906,40.679746493090974 L -73.79172164051496,40.67934095650678 L -73.79145856089148,40.6786491116637 L -73.79120613550425,40.67798265305267 L -73.79112836722508,40.6777729246441 L -73.79100092979272,40.6774361861734 L -73.79095228889155,40.67732442917383 L -73.79066256307502,40.676670049445086 L -73.79055864023375,40.67644529471823 L -73.79034355822562,40.6760393424066 L -73.7900015590796,40.67536766303951 L -73.78993020834562,40.67526456402055 L -73.78988966059924,40.67520137541309 L -73.78968640911516,40.674886741467866 L -73.7895379451876,40.674679373470525 L -73.78944939130335,40.67455568205539 L -73.78935404755035,40.6744360890011 L -73.78918018667717,40.674265493487994 L -73.78866170092829,40.67380116740938 L -73.7882992601273,40.67349400267886 L -73.78807161679474,40.67324965314243 L -73.78806328800638,40.673235848172354 L -73.78805453131602,40.67318586321347 L -73.7880536871879,40.6731634216573 L -73.7880854155026,40.67300930876585 L -73.78831982761218,40.67197748486118 L -73.78847620069256,40.67132619015287 L -73.78883106688905,40.66982316973516 L -73.78893158386605,40.66941374904133 L -73.78915781341645,40.66833778532974 L -73.78925058598647,40.66788485416643 L -73.78931805483707,40.667403785800374 L -73.78938047445014,40.666958171438345 L -73.78940998379869,40.666840844694086 L -73.79002830390755,40.666872811373175 L -73.79039543831487,40.66688738488957 L -73.79129928099267,40.6669697182038 L -73.79217436068959,40.667039507668186 L -73.7925926767697,40.66706835158447 L -73.79306203701587,40.66708689112821 L -73.79323040925951,40.66707343486098 L -73.7934832779878,40.66703108024642 L -73.79393372290116,40.66700107946301 L -73.79437879960405,40.66697102139509 L -73.79471090798954,40.66695799508675 L -73.79711092170287,40.66694588057397 L -73.79730398835356,40.66694259272542 L -73.7973716938655,40.66694112078484 L -73.79761163374172,40.66685495383564 L -73.79787832669908,40.66677300189251 L -73.79807192365797,40.66671351054784 L -73.79828221316328,40.66664968693912 L -73.79844369110441,40.66660640920724 L -73.79856032065175,40.66658213020309 L -73.7987374088221,40.66655456101595 L -73.79886760792937,40.666540377735615 L -73.79904101463654,40.66652998353148 L -73.79938110986643,40.66651729359053 L -73.80010661669331,40.666647482812074 L -73.80036020093739,40.666676203935495 L -73.80102136138606,40.666729315616735 L -73.80132611235598,40.6667458850582 L -73.80145255901478,40.666750697806584 L -73.80166295700813,40.6667587079418 L -73.80161844561452,40.66694306089564 L -73.8015991147416,40.667023222294034 L -73.80158130360178,40.667099377203364 L -73.80154733231954,40.66724487744106 L -73.80150319813316,40.66742545602003 L -73.80139536250235,40.66798905089758 L -73.80136118899138,40.66826133823974 L -73.8013459718905,40.668441566835 L -73.80134190306806,40.66848977173672 L -73.80129694652767,40.669022150506045 L -73.80129079694197,40.6690946964082 L -73.80128468978477,40.66916728740861 L -73.8012197841201,40.67017186765952 L -73.8012193585724,40.670185682667196 L -73.80121822726804,40.670224393969505 L -73.80121223817186,40.6709243641227 L -73.80122926878303,40.671675716100005 L -73.80126524955178,40.67230280951719 L -73.80128545270053,40.6725347105568 L -73.80132086708,40.67282103451215 L -73.80136454131714,40.67305796041632 L -73.80145896240279,40.67338718505968 L -73.80146959195946,40.67346419943876 L -73.80155310363328,40.67377937420081 L -73.80164250661436,40.67405425819549 L -73.80171601241622,40.674239361057715 L -73.80173525504148,40.67428781413269 L -73.80177519533667,40.67439182966114 L -73.80183075167783,40.674540878123544 L -73.80203672891707,40.674976626487926 L -73.80249325969568,40.67592179061416 L -73.80285083551938,40.67667965405396 L -73.80312143512455,40.677194644877936 L -73.80327189112604,40.67754524923066 L -73.80330822371333,40.677629916708575 L -73.80331827762399,40.67765080067219 L -73.80336888441238,40.67775440608476 L -73.80384914703612,40.67874003099921 L -73.8040468777332,40.67914794628024 L -73.80458384380935,40.68022748659835 L -73.80482023963235,40.6807664048221 L -73.80500649275571,40.68115535740025 L -73.80513176422389,40.681416330364115 L -73.80516012997607,40.68147542255894 L -73.80579760136551,40.68280339301118 L -73.80584847647394,40.682909326442505 z\" /></g></svg>"
      ],
      "text/plain": [
       "<shapely.geometry.polygon.Polygon at 0x7f3d8dc35978>"
      ]
     },
     "execution_count": 783,
     "metadata": {},
     "output_type": "execute_result"
    }
   ],
   "source": [
    "gpd_zip.geometry[0]"
   ]
  },
  {
   "cell_type": "code",
   "execution_count": 784,
   "metadata": {},
   "outputs": [],
   "source": [
    "gpd_zip['valid']=gpd_zip['ZIPCODE'].apply(lambda x: valid_zip(int(x)))"
   ]
  },
  {
   "cell_type": "code",
   "execution_count": 785,
   "metadata": {},
   "outputs": [
    {
     "data": {
      "text/plain": [
       "205"
      ]
     },
     "execution_count": 785,
     "metadata": {},
     "output_type": "execute_result"
    }
   ],
   "source": [
    "gpd_zip['valid'].sum()"
   ]
  },
  {
   "cell_type": "code",
   "execution_count": 786,
   "metadata": {},
   "outputs": [],
   "source": [
    "dill.dump(gpd_zip, open('gpd_zip.dill', 'wb'))"
   ]
  },
  {
   "cell_type": "markdown",
   "metadata": {},
   "source": [
    "**Check-in aggregations**"
   ]
  },
  {
   "cell_type": "code",
   "execution_count": null,
   "metadata": {},
   "outputs": [],
   "source": [
    "## complied check-in aggregate data\n",
    "checkin_aggre=pd.read_csv('checkin_aggre_0717.csv')\n",
    "checkin_aggre.drop('Unnamed: 0',axis=1,inplace=True)"
   ]
  },
  {
   "cell_type": "markdown",
   "metadata": {},
   "source": [
    "**Venus density data**"
   ]
  },
  {
   "cell_type": "code",
   "execution_count": null,
   "metadata": {},
   "outputs": [],
   "source": []
  },
  {
   "cell_type": "code",
   "execution_count": null,
   "metadata": {},
   "outputs": [],
   "source": [
    "venus_density = pd.read_csv('venus_density_0728.csv')"
   ]
  },
  {
   "cell_type": "code",
   "execution_count": null,
   "metadata": {},
   "outputs": [],
   "source": [
    "venus_density.to_csv('venus_density_0728.csv')"
   ]
  },
  {
   "cell_type": "markdown",
   "metadata": {},
   "source": [
    "** weather data **"
   ]
  },
  {
   "cell_type": "code",
   "execution_count": null,
   "metadata": {},
   "outputs": [],
   "source": [
    "wea_data = pd.read_csv('weather_data.csv')"
   ]
  },
  {
   "cell_type": "markdown",
   "metadata": {},
   "source": [
    "**Trip aggregation data**"
   ]
  },
  {
   "cell_type": "code",
   "execution_count": null,
   "metadata": {},
   "outputs": [],
   "source": [
    "trip_aggre = pd.read_csv('trip_aggre_all_0728.csv')"
   ]
  },
  {
   "cell_type": "code",
   "execution_count": null,
   "metadata": {},
   "outputs": [],
   "source": []
  },
  {
   "cell_type": "markdown",
   "metadata": {},
   "source": [
    "**Cleaned Training data**"
   ]
  },
  {
   "cell_type": "code",
   "execution_count": 15,
   "metadata": {},
   "outputs": [],
   "source": [
    "checkin_trip = pd.read_csv('checkin_trip_0814.csv')\n",
    "checkin_trip.drop('Unnamed: 0',axis=1,inplace=True)"
   ]
  },
  {
   "cell_type": "code",
   "execution_count": 63,
   "metadata": {},
   "outputs": [],
   "source": [
    "checkin_trip.to_csv('checkin_trip_0814.csv')"
   ]
  },
  {
   "cell_type": "markdown",
   "metadata": {
    "heading_collapsed": true
   },
   "source": [
    "# Check-in Data cleanning"
   ]
  },
  {
   "cell_type": "code",
   "execution_count": null,
   "metadata": {
    "hidden": true
   },
   "outputs": [],
   "source": [
    "## remove null value\n",
    "nyc_checkin = nyc_checkin[nyc_checkin['longitude'].notnull()]"
   ]
  },
  {
   "cell_type": "code",
   "execution_count": null,
   "metadata": {
    "hidden": true
   },
   "outputs": [],
   "source": [
    "## Convert timestamp to datetime\n",
    "nyc_checkin['datetime'] = nyc_checkin['utcTimestamp']. \\\n",
    "                            apply(lambda x:dt.datetime.strptime(x,'%a %b %d %X %z %Y').astimezone(timezone('US/Eastern')))"
   ]
  },
  {
   "cell_type": "code",
   "execution_count": null,
   "metadata": {
    "hidden": true
   },
   "outputs": [],
   "source": [
    "## create date columns\n",
    "nyc_checkin_upd['year'] = nyc_checkin['datetime'].apply(lambda x:x.year)\n",
    "nyc_checkin_upd['month'] =nyc_checkin['datetime'].apply(lambda x:x.month)\n",
    "nyc_checkin_upd['day'] = nyc_checkin['datetime'].apply(lambda x:x.day)\n",
    "nyc_checkin_upd['day_of_week'] = nyc_checkin['datetime'].apply(lambda x:x.weekday())"
   ]
  },
  {
   "cell_type": "markdown",
   "metadata": {
    "hidden": true
   },
   "source": []
  },
  {
   "cell_type": "code",
   "execution_count": null,
   "metadata": {
    "hidden": true
   },
   "outputs": [],
   "source": [
    "## create zip code column\n",
    "nyc_checkin['zip_code'] = nyc_checkin[['longitude','latitude']].apply(lambda x: point_in_zip(x),axis=1)\n",
    "len(nyc_checkin[nyc_checkin['zip_code'].isnull()]),len(nyc_checkin[nyc_checkin['zip_code'].notnull()])"
   ]
  },
  {
   "cell_type": "code",
   "execution_count": null,
   "metadata": {
    "hidden": true
   },
   "outputs": [],
   "source": [
    "## Remove null zipcode rows\n",
    "nyc_checkin_upd = nyc_checkin[nyc_checkin['zip_code'].notnull()]\n",
    "## check if there are abnormal zip code\n",
    "nyc_checkin_upd['zip_code'][nyc_checkin_upd['zip_code']>15000]"
   ]
  },
  {
   "cell_type": "code",
   "execution_count": null,
   "metadata": {
    "hidden": true
   },
   "outputs": [],
   "source": [
    "## Plotting check all the check-ins in the valid zipcode range\n",
    "\n",
    "# create figure and axes for Matplotlib\n",
    "fig = plt.figure(figsize=(15,22))\n",
    "plt.style.use('Solarize_Light2')\n",
    "\n",
    "gpd_zip.plot(color='gray',figsize=(15,22))\n",
    "checkin_plot = plt.scatter(nyc_checkin['longitude'],nyc_checkin['latitude'],s=2, marker='^',color='aqua')\n",
    "\n",
    "plt.title('NYC check-ins')\n",
    "plt.show()"
   ]
  },
  {
   "cell_type": "code",
   "execution_count": null,
   "metadata": {
    "hidden": true
   },
   "outputs": [],
   "source": []
  },
  {
   "cell_type": "markdown",
   "metadata": {},
   "source": [
    "# Checkin aggregation"
   ]
  },
  {
   "cell_type": "code",
   "execution_count": null,
   "metadata": {},
   "outputs": [],
   "source": [
    "checkin_aggre = pd.DataFrame(nyc_checkin_upd.groupby(['zip_code','year','month','day']) \\\n",
    "                             .size().unstack(fill_value=0).stack().reset_index())\n",
    "checkin_aggre.rename(columns={0:'checkin_sum'}, inplace=True)"
   ]
  },
  {
   "cell_type": "code",
   "execution_count": null,
   "metadata": {},
   "outputs": [],
   "source": [
    "checkin_aggre['checkin_sum'].sum(), len(nyc_checkin_upd)"
   ]
  },
  {
   "cell_type": "code",
   "execution_count": null,
   "metadata": {},
   "outputs": [],
   "source": [
    "## check and drop invalid date 4/31, 6/31, 9/31, 11/31\n",
    "checkin_aggre.drop(checkin_aggre[(checkin_aggre['month']==4)&(checkin_aggre['day']==31)].index,inplace=True)"
   ]
  },
  {
   "cell_type": "code",
   "execution_count": null,
   "metadata": {},
   "outputs": [],
   "source": [
    "## Add geometry polygon to the check-in aggregation data\n",
    "gpd_zip_upd['ZIPCODE'] = gpd_zip['ZIPCODE'].apply(lambda x: int(x))\n",
    "checkin_zip_aggre=checkin_aggre.merge(gpd_zip[['ZIPCODE','geometry']],left_on=['zip_code'],right_on=['ZIPCODE'],how='left')"
   ]
  },
  {
   "cell_type": "markdown",
   "metadata": {},
   "source": [
    "# Checkin and Trip Data integration"
   ]
  },
  {
   "cell_type": "code",
   "execution_count": null,
   "metadata": {},
   "outputs": [],
   "source": [
    "trip_aggre = pd.read_csv('trip_aggre_all_0728.csv')"
   ]
  },
  {
   "cell_type": "code",
   "execution_count": null,
   "metadata": {},
   "outputs": [],
   "source": [
    "checkin_trip = checkin_aggre.merge(trip_aggre, on=['zip_code', 'year','month','day'],how = 'left')\n",
    "checkin_trip.drop('Unnamed: 0',axis=1,inplace=True)"
   ]
  },
  {
   "cell_type": "code",
   "execution_count": null,
   "metadata": {},
   "outputs": [],
   "source": [
    "checkin_trip[checkin_trip['trip_sum'].isnull()]"
   ]
  },
  {
   "cell_type": "code",
   "execution_count": null,
   "metadata": {},
   "outputs": [],
   "source": [
    "checkin_trip.drop(checkin_trip[checkin_trip['trip_sum'].isnull()].index,inplace=True)"
   ]
  },
  {
   "cell_type": "markdown",
   "metadata": {},
   "source": [
    "# Foursquare venus density for each zipcode"
   ]
  },
  {
   "cell_type": "code",
   "execution_count": null,
   "metadata": {},
   "outputs": [],
   "source": [
    "## groupby venus by category in the check-in data to zipcode location\n",
    "venus_aggre = pd.DataFrame(nyc_checkin_upd.groupby(['zip_code','venueCategory','venueId']).size().reset_index())\n",
    "venus_aggre.rename(columns={0:'vencat_sum'}, inplace=True)"
   ]
  },
  {
   "cell_type": "code",
   "execution_count": null,
   "metadata": {},
   "outputs": [],
   "source": [
    "venus_density = pd.DataFrame(venus_aggre.groupby(['zip_code','venueCategory']).size().reset_index())\n",
    "venus_density.rename(columns={0:'venus_num'}, inplace=True)"
   ]
  },
  {
   "cell_type": "code",
   "execution_count": null,
   "metadata": {},
   "outputs": [],
   "source": [
    "venus_cat = pd.get_dummies(venus_density['venueCategory'])\n",
    "venus_cat = venus_cat.multiply(venus_density[\"venus_num\"], axis=\"index\")"
   ]
  },
  {
   "cell_type": "code",
   "execution_count": null,
   "metadata": {},
   "outputs": [],
   "source": [
    "venus_density = pd.concat([venus_density,venus_cat],axis=1)\n",
    "venus_density.drop(['venueCategory'],axis=1,inplace=True)"
   ]
  },
  {
   "cell_type": "code",
   "execution_count": null,
   "metadata": {},
   "outputs": [],
   "source": [
    "venus_density = venus_density.groupby('zip_code').sum()"
   ]
  },
  {
   "cell_type": "markdown",
   "metadata": {},
   "source": [
    "# Checkin_trip and venus density aggregation"
   ]
  },
  {
   "cell_type": "code",
   "execution_count": null,
   "metadata": {},
   "outputs": [],
   "source": [
    "checkin_trip= checkin_trip.merge(venus_density, on=['zip_code'],how = 'left')"
   ]
  },
  {
   "cell_type": "code",
   "execution_count": null,
   "metadata": {},
   "outputs": [],
   "source": []
  },
  {
   "cell_type": "markdown",
   "metadata": {},
   "source": [
    "# Dealing with overlapped Zipcode areas"
   ]
  },
  {
   "cell_type": "markdown",
   "metadata": {},
   "source": [
    "## Create overlap zipcode list"
   ]
  },
  {
   "cell_type": "code",
   "execution_count": null,
   "metadata": {},
   "outputs": [],
   "source": [
    "group_ind = []\n",
    "\n",
    "for ind,val in enumerate(gpd_zip['geometry']):\n",
    "    for ind_2,val_2 in enumerate(gpd_zip['geometry']):\n",
    "        if ind!=ind_2 and val.within(val_2):\n",
    "            group_ind.append((gpd_zip.loc[ind_2]['ZIPCODE'],gpd_zip.loc[ind]['ZIPCODE']))"
   ]
  },
  {
   "cell_type": "code",
   "execution_count": null,
   "metadata": {},
   "outputs": [],
   "source": [
    "d = {key:\"\" for (key, value) in set(group_ind)}"
   ]
  },
  {
   "cell_type": "code",
   "execution_count": null,
   "metadata": {},
   "outputs": [],
   "source": [
    "for (k, v) in set(group_ind):\n",
    "    if k in d:\n",
    "        d[k] += (\",\" +str(v))"
   ]
  },
  {
   "cell_type": "code",
   "execution_count": null,
   "metadata": {},
   "outputs": [],
   "source": [
    "zip_overlap=[]\n",
    "for k, v in d.items():\n",
    "#     zip_overlap.append([str(k)+v])\n",
    "      zip_overlap.append([k,*v.split(',')])"
   ]
  },
  {
   "cell_type": "code",
   "execution_count": null,
   "metadata": {},
   "outputs": [],
   "source": [
    "zip_overlap_list = []\n",
    "for item in zip_overlap:\n",
    "    zip_overlap_list.append([int(x) for x in item if x!=''])"
   ]
  },
  {
   "cell_type": "code",
   "execution_count": null,
   "metadata": {},
   "outputs": [],
   "source": [
    "zip_overlap_list = [[10017,10178,10168,10167,10177,10175,10166,10171,10176,10174,10165,10170,10173,10169,10172],\n",
    "                    [10019, 10105, 10097, 10104, 10107, 10103, 10106],\n",
    "                    [10022, 10055, 10155, 10152, 10153, 10151, 10154],\n",
    "                    [10001, 10120, 10119, 10118, 10123, 10122, 10121],\n",
    "                    [10005, 10081, 10286, 10260, 10271, 10259, 10043, 10270, 10265, 10203],\n",
    "                    [10048, 10080],\n",
    "                    [10004, 10041, 10275],\n",
    "                    [10007, 10279, 10278],\n",
    "                    [10020, 10112],\n",
    "                    [10036, 10096, 10196, 10110],\n",
    "                    [10047, 10047],\n",
    "                    [10016, 10158],\n",
    "                    [10010, 10047],\n",
    "                    [10038, 10045],\n",
    "                    [10281, 10285],\n",
    "                    [10021, 10162]]"
   ]
  },
  {
   "cell_type": "markdown",
   "metadata": {},
   "source": [
    "## Group overlap zipcode area"
   ]
  },
  {
   "cell_type": "code",
   "execution_count": null,
   "metadata": {},
   "outputs": [],
   "source": [
    "dill.dump(zip_overlap_list, open('zip_overlap_list.dill', 'wb'))"
   ]
  },
  {
   "cell_type": "code",
   "execution_count": 355,
   "metadata": {},
   "outputs": [],
   "source": [
    "checkin_trip['zip_code'] = checkin_trip['zip_code'].apply(lambda x: recombine_zip(x))"
   ]
  },
  {
   "cell_type": "code",
   "execution_count": 357,
   "metadata": {},
   "outputs": [],
   "source": [
    "checkin_trip= checkin_trip.groupby(['zip_code','year','month','day']).sum().reset_index()"
   ]
  },
  {
   "cell_type": "markdown",
   "metadata": {},
   "source": [
    "# Get dark sky weather data and integration"
   ]
  },
  {
   "cell_type": "code",
   "execution_count": 68,
   "metadata": {},
   "outputs": [],
   "source": [
    "key ='3e7fed9d10f93dc0d63701b5ad95da27'\n",
    "lat = '40.761440'\n",
    "long = '-73.981806'\n",
    "# day = '1333296000'"
   ]
  },
  {
   "cell_type": "code",
   "execution_count": 72,
   "metadata": {},
   "outputs": [],
   "source": [
    "response = requests.get('https://api.darksky.net/forecast/{}/{},{},{}'.format(key, lat, long, day))\n",
    "response_json = json.loads(response.text)"
   ]
  },
  {
   "cell_type": "code",
   "execution_count": 73,
   "metadata": {},
   "outputs": [
    {
     "name": "stderr",
     "output_type": "stream",
     "text": [
      "/home/jovyan/conda-envs/cap_lly/lib/python3.6/site-packages/pandas/core/frame.py:6211: FutureWarning: Sorting because non-concatenation axis is not aligned. A future version\n",
      "of pandas will change to not sort by default.\n",
      "\n",
      "To accept the future behavior, pass 'sort=False'.\n",
      "\n",
      "To retain the current behavior and silence the warning, pass 'sort=True'.\n",
      "\n",
      "  sort=sort)\n"
     ]
    }
   ],
   "source": [
    "wea_data = pd.DataFrame()\n",
    "for day in range(1333296000, 1355587200, 86400):\n",
    "    response = requests.get('https://api.darksky.net/forecast/{}/{},{},{}'.format(key, lat, long, day))\n",
    "    response_json = json.loads(response.text)\n",
    "    wea_row = json_normalize(response_json[\"daily\"]['data'])\n",
    "    wea_data = wea_data.append(wea_row)"
   ]
  },
  {
   "cell_type": "code",
   "execution_count": 81,
   "metadata": {},
   "outputs": [],
   "source": [
    "wea_data['datetime']=wea_data['time'].apply(lambda x: dt.datetime.utcfromtimestamp(x).strftime('%Y-%m-%d'))"
   ]
  },
  {
   "cell_type": "code",
   "execution_count": null,
   "metadata": {},
   "outputs": [],
   "source": [
    "wea_data.drop(['precipAccumulation','precipIntensityMaxTime','precipType'],axis=1,inplace=True)"
   ]
  },
  {
   "cell_type": "code",
   "execution_count": null,
   "metadata": {},
   "outputs": [],
   "source": [
    "weather = wea_data[['icon','apparentTemperatureHigh','apparentTemperatureLow','cloudCover','humidity','precipProbability',\n",
    "                     'pressure','visibility','windBearing','windGust','windSpeed','datetime']]"
   ]
  },
  {
   "cell_type": "code",
   "execution_count": null,
   "metadata": {},
   "outputs": [],
   "source": [
    "weather = pd.get_dummies(data=weather,columns=['icon'])"
   ]
  },
  {
   "cell_type": "code",
   "execution_count": null,
   "metadata": {},
   "outputs": [],
   "source": [
    "checkin_trip = checkin_trip.merge(weather,on='datetime',how='left')"
   ]
  },
  {
   "cell_type": "code",
   "execution_count": null,
   "metadata": {},
   "outputs": [],
   "source": [
    "checkin_trip.to_csv('checkin_trip_0730.csv')"
   ]
  },
  {
   "cell_type": "markdown",
   "metadata": {},
   "source": [
    "# Preliminary Model\n"
   ]
  },
  {
   "cell_type": "markdown",
   "metadata": {},
   "source": [
    "## Time-series Plot"
   ]
  },
  {
   "cell_type": "code",
   "execution_count": 19,
   "metadata": {},
   "outputs": [],
   "source": [
    "ts_data = checkin_trip[['zip_code','year','month','day','checkin_sum','trip_sum']]"
   ]
  },
  {
   "cell_type": "code",
   "execution_count": 31,
   "metadata": {},
   "outputs": [
    {
     "data": {
      "text/plain": [
       "pandas._libs.tslibs.timestamps.Timestamp"
      ]
     },
     "execution_count": 31,
     "metadata": {},
     "output_type": "execute_result"
    }
   ],
   "source": [
    "type(ts_data['datetime'][0])"
   ]
  },
  {
   "cell_type": "code",
   "execution_count": null,
   "metadata": {},
   "outputs": [],
   "source": [
    "ts_data['datetime'] = pd.to_datetime(ts_data[['year', 'month', 'day']])\n",
    "ts_data['yr_month'] = pd.to_datetime(ts_data[['year', 'month']])"
   ]
  },
  {
   "cell_type": "code",
   "execution_count": 67,
   "metadata": {},
   "outputs": [
    {
     "data": {
      "text/html": [
       "<div>\n",
       "<style scoped>\n",
       "    .dataframe tbody tr th:only-of-type {\n",
       "        vertical-align: middle;\n",
       "    }\n",
       "\n",
       "    .dataframe tbody tr th {\n",
       "        vertical-align: top;\n",
       "    }\n",
       "\n",
       "    .dataframe thead th {\n",
       "        text-align: right;\n",
       "    }\n",
       "</style>\n",
       "<table border=\"1\" class=\"dataframe\">\n",
       "  <thead>\n",
       "    <tr style=\"text-align: right;\">\n",
       "      <th></th>\n",
       "      <th>zip_code</th>\n",
       "      <th>year</th>\n",
       "      <th>month</th>\n",
       "      <th>day</th>\n",
       "      <th>checkin_sum</th>\n",
       "      <th>trip_sum</th>\n",
       "    </tr>\n",
       "    <tr>\n",
       "      <th>datetime</th>\n",
       "      <th></th>\n",
       "      <th></th>\n",
       "      <th></th>\n",
       "      <th></th>\n",
       "      <th></th>\n",
       "      <th></th>\n",
       "    </tr>\n",
       "  </thead>\n",
       "  <tbody>\n",
       "    <tr>\n",
       "      <th>2012-04-04</th>\n",
       "      <td>83.0</td>\n",
       "      <td>2012</td>\n",
       "      <td>4</td>\n",
       "      <td>4</td>\n",
       "      <td>6</td>\n",
       "      <td>7576.0</td>\n",
       "    </tr>\n",
       "    <tr>\n",
       "      <th>2012-04-05</th>\n",
       "      <td>83.0</td>\n",
       "      <td>2012</td>\n",
       "      <td>4</td>\n",
       "      <td>5</td>\n",
       "      <td>2</td>\n",
       "      <td>7206.0</td>\n",
       "    </tr>\n",
       "    <tr>\n",
       "      <th>2012-04-06</th>\n",
       "      <td>83.0</td>\n",
       "      <td>2012</td>\n",
       "      <td>4</td>\n",
       "      <td>6</td>\n",
       "      <td>1</td>\n",
       "      <td>7211.0</td>\n",
       "    </tr>\n",
       "    <tr>\n",
       "      <th>2012-04-07</th>\n",
       "      <td>83.0</td>\n",
       "      <td>2012</td>\n",
       "      <td>4</td>\n",
       "      <td>7</td>\n",
       "      <td>10</td>\n",
       "      <td>7063.0</td>\n",
       "    </tr>\n",
       "    <tr>\n",
       "      <th>2012-04-08</th>\n",
       "      <td>83.0</td>\n",
       "      <td>2012</td>\n",
       "      <td>4</td>\n",
       "      <td>8</td>\n",
       "      <td>17</td>\n",
       "      <td>6056.0</td>\n",
       "    </tr>\n",
       "  </tbody>\n",
       "</table>\n",
       "</div>"
      ],
      "text/plain": [
       "            zip_code  year  month  day  checkin_sum  trip_sum\n",
       "datetime                                                     \n",
       "2012-04-04      83.0  2012      4    4            6    7576.0\n",
       "2012-04-05      83.0  2012      4    5            2    7206.0\n",
       "2012-04-06      83.0  2012      4    6            1    7211.0\n",
       "2012-04-07      83.0  2012      4    7           10    7063.0\n",
       "2012-04-08      83.0  2012      4    8           17    6056.0"
      ]
     },
     "execution_count": 67,
     "metadata": {},
     "output_type": "execute_result"
    }
   ],
   "source": [
    "ts_data[0:5]"
   ]
  },
  {
   "cell_type": "code",
   "execution_count": 33,
   "metadata": {},
   "outputs": [],
   "source": [
    "ts_data.set_index('datetime', inplace=True)"
   ]
  },
  {
   "cell_type": "code",
   "execution_count": 100,
   "metadata": {},
   "outputs": [
    {
     "data": {
      "text/plain": [
       "Text(0,0.5,'taxi trips')"
      ]
     },
     "execution_count": 100,
     "metadata": {},
     "output_type": "execute_result"
    },
    {
     "data": {
      "image/png": "[encoded data removed]",
      "text/plain": [
       "<Figure size 1440x720 with 2 Axes>"
      ]
     },
     "metadata": {},
     "output_type": "display_data"
    }
   ],
   "source": [
    "zip_vis = 10001\n",
    "ck = ts_data[ts_data['zip_code']==zip_vis]['checkin_sum']\n",
    "tp = ts_data[ts_data['zip_code']==zip_vis]['trip_sum']\n",
    "\n",
    "# plt.style.use('Solarize_Light2')\n",
    "\n",
    "fig, ax1 = plt.subplots(figsize=(20,10))\n",
    "ax1.plot(ck.rolling(30).mean(),color='b')\n",
    "ax1.set_ylabel('check-ins', color='b')\n",
    "\n",
    "ax2 = ax1.twinx()\n",
    "ax2.plot(tp.rolling(30).mean(),color='r')\n",
    "ax2.set_ylabel('taxi trips', color='r')\n",
    "\n"
   ]
  },
  {
   "cell_type": "markdown",
   "metadata": {},
   "source": [
    "## Library and Data"
   ]
  },
  {
   "cell_type": "code",
   "execution_count": 467,
   "metadata": {},
   "outputs": [],
   "source": [
    "from sklearn import base\n",
    "from sklearn.pipeline import Pipeline\n",
    "\n",
    "from sklearn.preprocessing import OneHotEncoder\n",
    "from sklearn.preprocessing import StandardScaler\n",
    "\n",
    "from sklearn.compose import ColumnTransformer,make_column_transformer\n",
    "from sklearn_pandas import DataFrameMapper\n",
    "\n",
    "from sklearn.linear_model import Ridge\n",
    "from sklearn.ensemble import RandomForestRegressor\n",
    "\n",
    "from sklearn.model_selection import TimeSeriesSplit\n",
    "from sklearn.model_selection import train_test_split\n",
    "from sklearn.model_selection import GridSearchCV\n",
    "from sklearn.model_selection import cross_val_score"
   ]
  },
  {
   "cell_type": "code",
   "execution_count": null,
   "metadata": {},
   "outputs": [],
   "source": [
    "checkin_trip = checkin_trip[(checkin_trip['datetime']>'2012-04-03')&(checkin_trip['datetime']<'2012-12-14')]\n",
    "checkin_trip['datetime'].min(),checkin_trip['datetime'].max()"
   ]
  },
  {
   "cell_type": "code",
   "execution_count": null,
   "metadata": {},
   "outputs": [],
   "source": [
    "zip_date = pd.get_dummies(data=checkin_trip[['zip_code','month','day']],columns=['zip_code','month','day'])"
   ]
  },
  {
   "cell_type": "code",
   "execution_count": null,
   "metadata": {},
   "outputs": [],
   "source": [
    "y = checkin_trip['checkin_sum']"
   ]
  },
  {
   "cell_type": "code",
   "execution_count": null,
   "metadata": {},
   "outputs": [],
   "source": [
    "X_cat = checkin_trip.drop(['checkin_sum','zip_code','year','month','day','datetime','trip_sum','venus_num'],axis=1)"
   ]
  },
  {
   "cell_type": "code",
   "execution_count": null,
   "metadata": {},
   "outputs": [],
   "source": [
    "X_std = pd.DataFrame(StandardScaler().fit_transform(checkin_trip[['trip_sum','venus_num']]),columns=['trip_sum','venus_num'])"
   ]
  },
  {
   "cell_type": "code",
   "execution_count": null,
   "metadata": {},
   "outputs": [],
   "source": [
    "X = pd.concat([X_cat,X_std,zip_date],axis=1)\n",
    "# X = pd.concat([X_refined,zip_date],axis=1)"
   ]
  },
  {
   "cell_type": "markdown",
   "metadata": {},
   "source": [
    "## Linear regression"
   ]
  },
  {
   "cell_type": "code",
   "execution_count": null,
   "metadata": {},
   "outputs": [],
   "source": [
    "ridge = Ridge()"
   ]
  },
  {
   "cell_type": "code",
   "execution_count": null,
   "metadata": {},
   "outputs": [],
   "source": [
    "param_grid = {'alpha':[3650,3750,3850]}"
   ]
  },
  {
   "cell_type": "code",
   "execution_count": null,
   "metadata": {},
   "outputs": [],
   "source": [
    "ridge_gds = GridSearchCV(ridge,param_grid, cv=5,n_jobs = 3,refit=True,verbose=3,scoring = 'neg_mean_squared_error')"
   ]
  },
  {
   "cell_type": "code",
   "execution_count": null,
   "metadata": {},
   "outputs": [],
   "source": [
    "ridge_gds.fit(X_nt,y)\n"
   ]
  },
  {
   "cell_type": "code",
   "execution_count": null,
   "metadata": {},
   "outputs": [],
   "source": [
    "ridge_gds.best_params_"
   ]
  },
  {
   "cell_type": "code",
   "execution_count": null,
   "metadata": {},
   "outputs": [],
   "source": [
    "linear_estimator = ridge_gds.best_estimator_"
   ]
  },
  {
   "cell_type": "code",
   "execution_count": null,
   "metadata": {},
   "outputs": [],
   "source": [
    "X_train, X_test, y_train, y_test = train_test_split(X_nt, y, test_size=0.2, random_state=42)\n",
    "y.shape, X_train.shape, X_test.shape"
   ]
  },
  {
   "cell_type": "code",
   "execution_count": null,
   "metadata": {},
   "outputs": [],
   "source": [
    "checkin_estimator.fit(X_train, y_train)\n",
    "checkin_estimator.predict(X_test)\n",
    "checkin_estimator.score(X_test, y_test)"
   ]
  },
  {
   "cell_type": "markdown",
   "metadata": {},
   "source": [
    "## Random Forest"
   ]
  },
  {
   "cell_type": "code",
   "execution_count": null,
   "metadata": {},
   "outputs": [],
   "source": [
    "y = checkin_trip['checkin_sum']"
   ]
  },
  {
   "cell_type": "code",
   "execution_count": null,
   "metadata": {},
   "outputs": [],
   "source": [
    "X = pd.get_dummies(data=checkin_trip,columns=['zip_code','month','day'])"
   ]
  },
  {
   "cell_type": "code",
   "execution_count": null,
   "metadata": {},
   "outputs": [],
   "source": [
    "X.drop(['checkin_sum','year','datetime'],axis=1,inplace=True)"
   ]
  },
  {
   "cell_type": "code",
   "execution_count": null,
   "metadata": {},
   "outputs": [],
   "source": [
    "X_t = X.drop(columns=X.iloc[:,1:253],axis=1)"
   ]
  },
  {
   "cell_type": "code",
   "execution_count": null,
   "metadata": {},
   "outputs": [],
   "source": [
    "rfr = RandomForestRegressor()"
   ]
  },
  {
   "cell_type": "code",
   "execution_count": null,
   "metadata": {},
   "outputs": [],
   "source": [
    "param_grid = {'n_estimators':[200,300,800],\n",
    "              'max_depth':[20,50,100],\n",
    "              'min_samples_leaf':[5,10,100]\n",
    "             }"
   ]
  },
  {
   "cell_type": "code",
   "execution_count": null,
   "metadata": {},
   "outputs": [],
   "source": [
    "rfr_gds = GridSearchCV(rfr,param_grid, cv=5,n_jobs = 3,refit=True,verbose=3,scoring = 'neg_mean_squared_error')\n",
    "rfr_gds.fit(X,y)"
   ]
  },
  {
   "cell_type": "code",
   "execution_count": null,
   "metadata": {},
   "outputs": [],
   "source": [
    "rfr_gds.best_params_"
   ]
  },
  {
   "cell_type": "code",
   "execution_count": null,
   "metadata": {},
   "outputs": [],
   "source": [
    "rfr_estimator = rfr_gds.best_estimator_"
   ]
  },
  {
   "cell_type": "code",
   "execution_count": null,
   "metadata": {},
   "outputs": [],
   "source": [
    "X_train, X_test, y_train, y_test = train_test_split(X_t, y, test_size=0.2, random_state=10)\n",
    "y.shape, X_train.shape, X_test.shape"
   ]
  },
  {
   "cell_type": "code",
   "execution_count": null,
   "metadata": {},
   "outputs": [],
   "source": [
    "rfr.fit(X_train, y_train)\n",
    "rfr.predict(X_test)\n",
    "rfr.score(X_test, y_test)"
   ]
  },
  {
   "cell_type": "code",
   "execution_count": null,
   "metadata": {},
   "outputs": [],
   "source": [
    "cross_val_score(rfr, X, y, scoring='neg_mean_squared_error', cv=5)\n"
   ]
  },
  {
   "cell_type": "code",
   "execution_count": null,
   "metadata": {},
   "outputs": [],
   "source": [
    "dill.dump(rfr_estimator, open('rfr_model.dill', 'wb'))"
   ]
  },
  {
   "cell_type": "markdown",
   "metadata": {},
   "source": [
    "## Model training pipeline"
   ]
  },
  {
   "cell_type": "code",
   "execution_count": 430,
   "metadata": {},
   "outputs": [],
   "source": [
    "checkin_trip = pd.read_csv('checkin_trip_0814.csv')\n",
    "checkin_trip.drop(['Unnamed: 0'],axis=1,inplace=True)"
   ]
  },
  {
   "cell_type": "code",
   "execution_count": 432,
   "metadata": {},
   "outputs": [],
   "source": [
    "checkin_trip['valid'] = checkin_trip['zip_code'].apply(lambda x: valid_zip(x))"
   ]
  },
  {
   "cell_type": "code",
   "execution_count": 433,
   "metadata": {},
   "outputs": [],
   "source": [
    "checkin_trip = checkin_trip[checkin_trip['valid']==1] "
   ]
  },
  {
   "cell_type": "code",
   "execution_count": 451,
   "metadata": {},
   "outputs": [
    {
     "data": {
      "text/plain": [
       "(34454, 141098)"
      ]
     },
     "execution_count": 451,
     "metadata": {},
     "output_type": "execute_result"
    }
   ],
   "source": [
    "len(checkin_trip),sum(checkin_trip['checkin_sum'])"
   ]
  },
  {
   "cell_type": "code",
   "execution_count": 448,
   "metadata": {},
   "outputs": [],
   "source": [
    "checkin_trip['zip_code'] = checkin_trip['zip_code'].apply(lambda x: recombine_zip(x))"
   ]
  },
  {
   "cell_type": "code",
   "execution_count": 452,
   "metadata": {},
   "outputs": [],
   "source": [
    "# checkin_trip = checkin_trip.groupby(['zip_code','year','month','day']).sum().reset_index()\n",
    "checkin_trip.drop(['valid'],axis=1,inplace=True)"
   ]
  },
  {
   "cell_type": "code",
   "execution_count": 454,
   "metadata": {},
   "outputs": [],
   "source": [
    "weather = pd.read_csv('weather_data.csv')"
   ]
  },
  {
   "cell_type": "code",
   "execution_count": 455,
   "metadata": {},
   "outputs": [],
   "source": [
    "# wea_data['datetime']=wea_data['time'].apply(lambda x: dt.datetime.utcfromtimestamp(x).strftime('%Y-%m-%d'))\n",
    "weather['dt']=weather['datetime'].apply(lambda x: dt.datetime.strptime(x,'%Y-%m-%d'))"
   ]
  },
  {
   "cell_type": "code",
   "execution_count": 456,
   "metadata": {},
   "outputs": [],
   "source": [
    "weather['year'] = weather['dt'].apply(lambda x:x.year)\n",
    "weather['month'] = weather['dt'].apply(lambda x:x.month)\n",
    "weather['day'] = weather['dt'].apply(lambda x:x.day)"
   ]
  },
  {
   "cell_type": "code",
   "execution_count": 457,
   "metadata": {},
   "outputs": [],
   "source": [
    "weather = weather[['icon','apparentTemperatureHigh','apparentTemperatureLow','cloudCover','humidity','precipProbability',\n",
    "                     'pressure','visibility','windBearing','windGust','windSpeed','year','month','day']]"
   ]
  },
  {
   "cell_type": "code",
   "execution_count": 458,
   "metadata": {},
   "outputs": [],
   "source": [
    "checkin_trip = checkin_trip.merge(weather,on=['year','month','day'],how='left')"
   ]
  },
  {
   "cell_type": "code",
   "execution_count": 459,
   "metadata": {},
   "outputs": [
    {
     "data": {
      "text/plain": [
       "count    34454.0\n",
       "mean      2012.0\n",
       "std          0.0\n",
       "min       2012.0\n",
       "25%       2012.0\n",
       "50%       2012.0\n",
       "75%       2012.0\n",
       "max       2012.0\n",
       "Name: year, dtype: float64"
      ]
     },
     "execution_count": 459,
     "metadata": {},
     "output_type": "execute_result"
    }
   ],
   "source": [
    "checkin_trip['year'].describe()"
   ]
  },
  {
   "cell_type": "code",
   "execution_count": 461,
   "metadata": {},
   "outputs": [
    {
     "data": {
      "text/plain": [
       "(34454, 269)"
      ]
     },
     "execution_count": 461,
     "metadata": {},
     "output_type": "execute_result"
    }
   ],
   "source": [
    "checkin_trip.shape"
   ]
  },
  {
   "cell_type": "markdown",
   "metadata": {},
   "source": [
    "**Pipeline fuctions**"
   ]
  },
  {
   "cell_type": "code",
   "execution_count": 464,
   "metadata": {},
   "outputs": [],
   "source": [
    "## ColumnTransformer\n",
    "colTrans = make_column_transformer(\n",
    "        (OneHotEncoder(),['zip_code','year','month','day','icon'])\n",
    "        ,sparse_threshold=0,remainder=\"passthrough\")"
   ]
  },
  {
   "cell_type": "code",
   "execution_count": null,
   "metadata": {},
   "outputs": [],
   "source": [
    "## Gridsearch for parameter tuning\n",
    "rfr = RandomForestRegressor()\n",
    "param_grid = {'n_estimators':[50,100,300],\n",
    "              'max_depth':[20,50,100],\n",
    "              'min_samples_leaf':[5,10,100]\n",
    "             }\n",
    "rfr_gds = GridSearchCV(rfr,param_grid, cv=5,n_jobs = 3,refit=True,verbose=3,scoring = 'neg_mean_squared_error')"
   ]
  },
  {
   "cell_type": "code",
   "execution_count": 465,
   "metadata": {},
   "outputs": [],
   "source": [
    "rfr = RandomForestRegressor(n_estimators=300)\n",
    "## best parameter: {'max_depth': 100, 'min_samples_leaf': 5, 'n_estimators': 300}"
   ]
  },
  {
   "cell_type": "code",
   "execution_count": 466,
   "metadata": {},
   "outputs": [],
   "source": [
    "## pipeline\n",
    "rfr_pipe = Pipeline([    \n",
    "    ('colTrans',colTrans),\n",
    "    ('randomForest',rfr)\n",
    "])"
   ]
  },
  {
   "cell_type": "markdown",
   "metadata": {},
   "source": [
    "**Train Test**"
   ]
  },
  {
   "cell_type": "code",
   "execution_count": 472,
   "metadata": {},
   "outputs": [],
   "source": [
    "X,y = checkin_trip.drop('checkin_sum',axis=1),checkin_trip['checkin_sum']"
   ]
  },
  {
   "cell_type": "code",
   "execution_count": 473,
   "metadata": {},
   "outputs": [
    {
     "data": {
      "text/plain": [
       "((34454, 268), (27563, 268), (6891, 268))"
      ]
     },
     "execution_count": 473,
     "metadata": {},
     "output_type": "execute_result"
    }
   ],
   "source": [
    "X_train, X_test, y_train, y_test = train_test_split(X, y, test_size=0.2, random_state=10)\n",
    "X.shape, X_train.shape, X_test.shape"
   ]
  },
  {
   "cell_type": "code",
   "execution_count": 469,
   "metadata": {},
   "outputs": [
    {
     "data": {
      "text/plain": [
       "((28632, 268), (5822, 268))"
      ]
     },
     "execution_count": 469,
     "metadata": {},
     "output_type": "execute_result"
    }
   ],
   "source": [
    "## Time series split\n",
    "train, test = checkin_trip[checkin_trip['month']<11],checkin_trip[checkin_trip['month']>=11]\n",
    "X_train, y_train = train.drop('checkin_sum',axis=1),train['checkin_sum']\n",
    "X_test, y_test = test.drop('checkin_sum',axis=1),test['checkin_sum']\n",
    "X_train.shape, X_test.shape"
   ]
  },
  {
   "cell_type": "code",
   "execution_count": 474,
   "metadata": {},
   "outputs": [
    {
     "data": {
      "text/plain": [
       "Pipeline(memory=None,\n",
       "         steps=[('colTrans',\n",
       "                 ColumnTransformer(n_jobs=None, remainder='passthrough',\n",
       "                                   sparse_threshold=0, transformer_weights=None,\n",
       "                                   transformers=[('onehotencoder',\n",
       "                                                  OneHotEncoder(categorical_features=None,\n",
       "                                                                categories=None,\n",
       "                                                                drop=None,\n",
       "                                                                dtype=<class 'numpy.float64'>,\n",
       "                                                                handle_unknown='error',\n",
       "                                                                n_values=None,\n",
       "                                                                sparse=True),\n",
       "                                                  ['zip_code', 'year', 'month',\n",
       "                                                   'day', 'ic...\n",
       "                                   verbose=False)),\n",
       "                ('randomForest',\n",
       "                 RandomForestRegressor(bootstrap=True, criterion='mse',\n",
       "                                       max_depth=None, max_features='auto',\n",
       "                                       max_leaf_nodes=None,\n",
       "                                       min_impurity_decrease=0.0,\n",
       "                                       min_impurity_split=None,\n",
       "                                       min_samples_leaf=1, min_samples_split=2,\n",
       "                                       min_weight_fraction_leaf=0.0,\n",
       "                                       n_estimators=300, n_jobs=None,\n",
       "                                       oob_score=False, random_state=None,\n",
       "                                       verbose=0, warm_start=False))],\n",
       "         verbose=False)"
      ]
     },
     "execution_count": 474,
     "metadata": {},
     "output_type": "execute_result"
    }
   ],
   "source": [
    "rfr_pipe.fit(X_train, y_train)"
   ]
  },
  {
   "cell_type": "code",
   "execution_count": 475,
   "metadata": {},
   "outputs": [
    {
     "data": {
      "text/plain": [
       "0.8523925825172174"
      ]
     },
     "execution_count": 475,
     "metadata": {},
     "output_type": "execute_result"
    }
   ],
   "source": [
    "rfr_pipe.predict(X_test)\n",
    "rfr_pipe.score(X_test, y_test)"
   ]
  },
  {
   "cell_type": "code",
   "execution_count": 506,
   "metadata": {},
   "outputs": [
    {
     "data": {
      "text/plain": [
       "Index(['zip_code', 'year', 'month', 'day', 'trip_sum', 'venus_num',\n",
       "       'Afghan Restaurant', 'African Restaurant', 'Airport',\n",
       "       'American Restaurant',\n",
       "       ...\n",
       "       'apparentTemperatureHigh', 'apparentTemperatureLow', 'cloudCover',\n",
       "       'humidity', 'precipProbability', 'pressure', 'visibility',\n",
       "       'windBearing', 'windGust', 'windSpeed'],\n",
       "      dtype='object', length=268)"
      ]
     },
     "execution_count": 506,
     "metadata": {},
     "output_type": "execute_result"
    }
   ],
   "source": [
    "X.columns"
   ]
  },
  {
   "cell_type": "code",
   "execution_count": 505,
   "metadata": {},
   "outputs": [
    {
     "data": {
      "text/plain": [
       "array([2.70683216e-05, 1.36054967e-05, 1.16688889e-05, 1.14776695e-04,\n",
       "       2.98140059e-06, 1.14177723e-06, 4.62321776e-06, 5.04307843e-06,\n",
       "       2.52784096e-06, 7.35612004e-06, 1.27845312e-05, 9.54416273e-06,\n",
       "       8.42365202e-06, 1.48753563e-05, 6.19685489e-05, 2.70338884e-05,\n",
       "       1.43674703e-05, 8.27722275e-06, 1.66881159e-06, 1.91226889e-05,\n",
       "       1.93046258e-05, 3.69850100e-06, 3.63701775e-06, 1.10126393e-06,\n",
       "       3.19878728e-06, 4.39247380e-06, 2.97673064e-06, 1.27929678e-06,\n",
       "       4.15074227e-05, 4.70016519e-06, 5.61734967e-06, 1.22062632e-05,\n",
       "       3.83994984e-06, 1.81469773e-05, 3.43431143e-07, 6.18013978e-06,\n",
       "       2.68681470e-06, 2.87621038e-06, 1.42769505e-05, 1.96197296e-05,\n",
       "       2.30578598e-06, 1.05122216e-06, 1.59834705e-06, 2.50031194e-07,\n",
       "       2.08210309e-06, 1.27174052e-06, 6.61035484e-07, 5.46490901e-06,\n",
       "       3.08711807e-06, 2.78295810e-06, 9.83395577e-07, 1.07260251e-06,\n",
       "       3.34538005e-06, 2.39769135e-06, 4.34910040e-06, 1.30105961e-05,\n",
       "       2.31959896e-06, 3.60183300e-06, 6.97729268e-06, 9.23856556e-06,\n",
       "       1.38537710e-05, 1.89161749e-06, 5.65689245e-06, 2.10564455e-05,\n",
       "       1.79629038e-05, 1.51953912e-05, 3.66677796e-05, 4.18148060e-06,\n",
       "       1.49732914e-06, 4.49416467e-06, 3.31524670e-06, 2.22689400e-06,\n",
       "       1.60174670e-06, 5.54060193e-06, 2.27314066e-06, 4.24647601e-06,\n",
       "       5.55247149e-05, 5.28913747e-06, 4.72258183e-06, 1.02519873e-06,\n",
       "       1.19840641e-06, 1.25430592e-06, 1.20501938e-06, 2.36946295e-06,\n",
       "       3.33654644e-05, 1.42562882e-06, 6.12347819e-06, 1.26223128e-04,\n",
       "       3.61431925e-06, 2.00210322e-06, 8.15420397e-07, 1.05130643e-05,\n",
       "       2.05041830e-06, 7.09241842e-07, 2.55833445e-05, 1.93555490e-05,\n",
       "       1.39431098e-06, 1.08343942e-07, 3.34425433e-05, 1.30856305e-06,\n",
       "       1.19520245e-06, 1.19789356e-06, 7.60017101e-07, 6.87903704e-07,\n",
       "       3.40717448e-06, 1.06596838e-05, 4.04785938e-06, 6.13909400e-07,\n",
       "       1.22754155e-06, 4.71877666e-06, 1.54983349e-06, 5.25991074e-06,\n",
       "       1.01651765e-05, 7.36960616e-07, 1.55673398e-06, 1.52820220e-06,\n",
       "       1.50362745e-06, 1.25761762e-06, 8.17776161e-06, 8.24266605e-07,\n",
       "       4.46552435e-06, 5.04556031e-07, 1.06433396e-06, 2.47678447e-06,\n",
       "       1.11169495e-06, 1.32073303e-05, 1.27890359e-06, 5.45527161e-06,\n",
       "       6.17763817e-07, 8.32427664e-07, 2.73764482e-07, 1.85103625e-06,\n",
       "       1.02815579e-06, 1.88745456e-06, 3.74742884e-06, 1.68442556e-06,\n",
       "       2.66567058e-05, 1.95719781e-06, 0.00000000e+00, 8.31578855e-02,\n",
       "       8.28572109e-02, 9.57733178e-03, 7.50859523e-03, 4.79996557e-03,\n",
       "       1.26716008e-02, 4.82124344e-03, 8.07895139e-04, 1.47913095e-03,\n",
       "       7.16457797e-04, 6.27013929e-04, 8.23752068e-04, 9.02743000e-04,\n",
       "       3.47313302e-03, 1.69725526e-03, 9.17819127e-04, 1.36297416e-03,\n",
       "       2.86194250e-03, 9.40789248e-04, 2.58692665e-03, 1.79912835e-03,\n",
       "       1.76701987e-03, 7.54915093e-03, 5.24258813e-03, 1.08347740e-03,\n",
       "       1.12398281e-03, 5.48082286e-04, 1.04293489e-03, 1.26748121e-03,\n",
       "       1.02436486e-03, 1.55073992e-03, 1.07917325e-03, 3.06278210e-03,\n",
       "       1.28645282e-03, 1.16721256e-03, 4.81428585e-04, 3.18896806e-03,\n",
       "       8.36209831e-04, 6.08782110e-03, 3.96843535e-04, 7.23194968e-03,\n",
       "       4.98967485e-04, 1.38353285e-05, 1.39187986e-03, 9.57596027e-04,\n",
       "       1.30165874e-05, 5.21970148e-02, 3.35349015e-01, 8.69045000e-05,\n",
       "       8.46847997e-05, 9.46787090e-05, 1.28135073e-03, 2.98665390e-05,\n",
       "       7.98540450e-05, 7.42654339e-05, 1.82497987e-04, 7.88671463e-05,\n",
       "       7.41842735e-05, 5.12976616e-04, 2.02617282e-04, 4.60883182e-04,\n",
       "       1.58282969e-04, 5.65387734e-04, 4.56733578e-04, 1.46451596e-04,\n",
       "       4.34784013e-04, 2.50428366e-03, 4.42159317e-04, 8.20890730e-04,\n",
       "       6.65729228e-04, 1.13800993e-03, 5.51741613e-04, 2.27917306e-04,\n",
       "       3.51771529e-05, 2.90951208e-04, 5.70903425e-05, 3.22139752e-04,\n",
       "       1.60612792e-04, 1.06871586e-04, 3.21188684e-04, 1.33247043e-04,\n",
       "       2.41240661e-04, 2.19456842e-04, 1.18364355e-03, 6.62456096e-04,\n",
       "       3.37963588e-04, 1.20812155e-03, 4.11899849e-04, 3.74031376e-05,\n",
       "       7.47167121e-05, 2.83947361e-04, 2.00071843e-04, 5.73735254e-05,\n",
       "       2.00637909e-05, 2.99374060e-04, 1.47964023e-04, 1.50644308e-05,\n",
       "       6.85082636e-05, 6.32982025e-04, 4.42002610e-04, 5.09336838e-05,\n",
       "       9.09990949e-04, 1.27601373e-02, 4.63774553e-05, 6.57352770e-04,\n",
       "       1.03119337e-04, 1.24132044e-04, 1.21981275e-04, 3.49596662e-05,\n",
       "       2.18116799e-04, 3.01464809e-04, 3.44265297e-04, 3.72148312e-04,\n",
       "       2.72450844e-04, 2.63208436e-04, 1.66374195e-03, 4.26273121e-04,\n",
       "       1.75699826e-04, 3.72984280e-04, 3.49835856e-05, 4.10428061e-04,\n",
       "       2.13618362e-05, 3.55545956e-04, 6.88805242e-04, 1.21760400e-04,\n",
       "       6.62427837e-04, 6.44231512e-04, 6.96632028e-05, 2.08848071e-04,\n",
       "       1.10960046e-04, 4.33401464e-04, 2.30799368e-04, 1.15402114e-04,\n",
       "       3.55061407e-04, 1.48800541e-03, 1.61233361e-04, 7.43007622e-05,\n",
       "       1.73449471e-04, 2.00874975e-05, 2.81195410e-04, 1.60023326e-04,\n",
       "       2.90138715e-04, 8.09076893e-04, 7.45036685e-04, 1.61397253e-04,\n",
       "       5.34415143e-04, 5.46744110e-04, 2.21368477e-05, 5.35512513e-04,\n",
       "       6.81183876e-05, 3.00965653e-04, 8.52801979e-05, 3.73344668e-04,\n",
       "       1.94276227e-04, 7.56347345e-04, 7.06337027e-04, 1.41008393e-03,\n",
       "       2.15832504e-04, 3.53525334e-04, 5.70301627e-05, 5.32984298e-04,\n",
       "       2.54180074e-04, 1.11048527e-03, 2.53024164e-04, 3.25063518e-04,\n",
       "       3.66297901e-04, 2.00915023e-04, 1.34787295e-04, 4.07911255e-04,\n",
       "       1.05339927e-03, 7.46770953e-04, 4.78637163e-04, 3.61804992e-04,\n",
       "       5.31588984e-04, 4.67846794e-04, 5.51517076e-05, 6.20291748e-04,\n",
       "       4.52211566e-04, 1.76805816e-04, 5.46831869e-04, 3.23815531e-04,\n",
       "       3.93080541e-04, 4.18826006e-05, 2.81027884e-04, 1.33725367e-04,\n",
       "       1.96578542e-04, 1.19601265e-04, 1.75402240e-04, 5.59757501e-05,\n",
       "       5.28375057e-04, 1.05747741e-04, 2.11236524e-04, 6.43515256e-04,\n",
       "       2.13282936e-04, 4.49142961e-05, 4.05921181e-05, 4.23462095e-04,\n",
       "       9.83097492e-05, 1.02474066e-05, 3.60633409e-05, 6.33280400e-05,\n",
       "       2.00414412e-05, 1.02506262e-03, 1.29165490e-03, 2.95357765e-04,\n",
       "       7.78660353e-07, 1.04245367e-04, 5.71283815e-04, 3.35946925e-04,\n",
       "       3.53583136e-04, 5.14075192e-05, 4.10462867e-05, 3.16052072e-05,\n",
       "       3.25797314e-03, 7.24071446e-04, 1.99798538e-04, 1.41254565e-04,\n",
       "       3.26549153e-04, 1.04813466e-03, 2.56220396e-04, 1.13356116e-03,\n",
       "       4.32984714e-05, 5.44375638e-05, 3.14878662e-04, 5.78719936e-06,\n",
       "       8.06565113e-03, 2.94009961e-06, 4.50263620e-04, 4.89868526e-04,\n",
       "       1.32436650e-04, 3.01202277e-04, 5.76907573e-05, 3.36629674e-04,\n",
       "       3.07614790e-04, 1.79187175e-04, 1.26608782e-04, 3.61098454e-04,\n",
       "       3.39882126e-04, 1.33355713e-05, 1.65799395e-04, 1.67985889e-03,\n",
       "       1.36899752e-04, 6.27411742e-04, 8.12479112e-05, 5.88118844e-04,\n",
       "       2.86088481e-04, 8.09344787e-04, 1.25535362e-03, 8.73813399e-05,\n",
       "       4.25756080e-04, 3.74168373e-04, 9.06479175e-05, 4.70664653e-04,\n",
       "       4.84950518e-04, 1.09582006e-04, 1.32497100e-05, 1.76362714e-04,\n",
       "       1.45220031e-04, 2.10110502e-04, 8.93582344e-06, 2.02264889e-04,\n",
       "       8.91287625e-05, 1.52697940e-04, 4.05485321e-04, 2.85819849e-04,\n",
       "       2.59508209e-04, 4.05744610e-04, 3.03443109e-04, 2.89570982e-04,\n",
       "       2.37203182e-05, 1.27533846e-04, 9.70264324e-04, 7.28103519e-04,\n",
       "       1.55746194e-05, 1.98525348e-04, 3.99351186e-04, 1.46192866e-04,\n",
       "       3.21987345e-04, 2.27874322e-04, 3.33248197e-04, 2.57303999e-04,\n",
       "       3.99089241e-05, 1.18991481e-03, 9.83997453e-04, 1.26169545e-03,\n",
       "       1.95070170e-04, 1.39966183e-04, 3.50689193e-04, 2.79522288e-05,\n",
       "       3.75687019e-05, 1.31760986e-04, 3.09521146e-04, 2.95397792e-04,\n",
       "       4.14664907e-04, 5.61669982e-05, 2.52138701e-04, 4.13895073e-05,\n",
       "       1.50931447e-04, 7.95671365e-05, 2.25436790e-02, 2.58762058e-02,\n",
       "       2.57528117e-02, 2.10035949e-02, 9.68535804e-03, 2.52139880e-02,\n",
       "       1.40993674e-02, 3.67877606e-02, 1.41336200e-02, 2.99782790e-02])"
      ]
     },
     "execution_count": 505,
     "metadata": {},
     "output_type": "execute_result"
    }
   ],
   "source": [
    "rfr_pipe.named_steps['randomForest'].feature_importances_"
   ]
  },
  {
   "cell_type": "code",
   "execution_count": 480,
   "metadata": {},
   "outputs": [],
   "source": [
    "dill.dump(rfr_pipe, open('rfr_pipe.dill', 'wb'))"
   ]
  },
  {
   "cell_type": "markdown",
   "metadata": {},
   "source": [
    "## Daily prediction pipeline"
   ]
  },
  {
   "cell_type": "markdown",
   "metadata": {},
   "source": [
    "Load Base data and model"
   ]
  },
  {
   "cell_type": "code",
   "execution_count": 730,
   "metadata": {},
   "outputs": [],
   "source": [
    "checkin_trip = pd.read_csv('checkin_trip_0828.csv')\n",
    "checkin_trip.drop('Unnamed: 0',axis=1,inplace=True)\n",
    "rfr_pipe =dill.load(open('rfr_pipe.dill', 'rb'))"
   ]
  },
  {
   "cell_type": "code",
   "execution_count": 734,
   "metadata": {},
   "outputs": [],
   "source": [
    "## Load functions\n",
    "def verify_zip(x,y):\n",
    "    if x and isinstance(x,int) and len(str(x))==5 and valid_zip(x)==1:\n",
    "        return x\n",
    "    elif y:\n",
    "        try:\n",
    "            result = point_in_zip(y)\n",
    "            return result\n",
    "        except:\n",
    "            return 'Location out of range!! Model only support certain areas in Manhattan, Brooklyn and Queens!'\n",
    "        \n",
    "        \n",
    "    else:\n",
    "        return 'Location out of range!! Model only support certain areas in Manhattan, Brooklyn and Queens!'\n",
    "\n",
    "def get_weather_data(lat,lng):\n",
    "    key ='3e7fed9d10f93dc0d63701b5ad95da27'\n",
    "    x = pd.DataFrame()\n",
    "    unix_now = int((dt.datetime.now()- dt.datetime(1970,1,1)).total_seconds())\n",
    "    for time in range(unix_now-86400, unix_now+604800, 86400):\n",
    "        rsp = requests.get('https://api.darksky.net/forecast/{}/{},{},{}'.format(key, lat, lng, time))\n",
    "        rsp_json = json.loads(rsp.text)\n",
    "        row = json_normalize(rsp_json[\"daily\"]['data'])\n",
    "        x = x.append(row,sort=False)\n",
    "    return x\n",
    "\n",
    "def update_tripsum(month_list,zipInput):\n",
    "    tripsum = []\n",
    "    for item in month_list:\n",
    "        if item in [4,5,6,7,8,9,10,11,12]:\n",
    "            tripsum.append(np.mean(checkin_trip[(checkin_trip['zip_code']==zipInput) & \n",
    "                                           (checkin_trip['month']==item)]['trip_sum']))\n",
    "        elif item == 1:\n",
    "            tripsum.append(np.mean(checkin_trip[(checkin_trip['zip_code']==zipInput) & \n",
    "                                           (checkin_trip['month']==12)]['trip_sum']))\n",
    "        elif item == 2:\n",
    "            tripsum.append(np.mean(checkin_trip[(checkin_trip['zip_code']==zipInput) & \n",
    "                                           (checkin_trip['month']==12)]['trip_sum']))\n",
    "        elif item == 3:\n",
    "            tripsum.append(np.mean(checkin_trip[(checkin_trip['zip_code']==zipInput) & \n",
    "                                           (checkin_trip['month']==4)]['trip_sum']))\n",
    "    return tripsum\n"
   ]
  },
  {
   "cell_type": "markdown",
   "metadata": {},
   "source": [
    "Input zipcode"
   ]
  },
  {
   "cell_type": "code",
   "execution_count": 549,
   "metadata": {},
   "outputs": [],
   "source": [
    "## input zipcode\n",
    "zip_input = 10003"
   ]
  },
  {
   "cell_type": "markdown",
   "metadata": {},
   "source": [
    "Input lat lng and transfer it to zipcode"
   ]
  },
  {
   "cell_type": "code",
   "execution_count": 550,
   "metadata": {},
   "outputs": [],
   "source": [
    "## input lat lng\n",
    "lnglat_input = [-73.990281,40.736213]"
   ]
  },
  {
   "cell_type": "code",
   "execution_count": 551,
   "metadata": {},
   "outputs": [
    {
     "data": {
      "text/plain": [
       "10003"
      ]
     },
     "execution_count": 551,
     "metadata": {},
     "output_type": "execute_result"
    }
   ],
   "source": [
    "zip_input = point_in_zip(lnglat_input)\n",
    "zip_input"
   ]
  },
  {
   "cell_type": "code",
   "execution_count": 751,
   "metadata": {},
   "outputs": [
    {
     "data": {
      "text/plain": [
       "'Location out of prediction range!'"
      ]
     },
     "execution_count": 751,
     "metadata": {},
     "output_type": "execute_result"
    }
   ],
   "source": [
    "point_in_zip([-1,40.736213])"
   ]
  },
  {
   "cell_type": "code",
   "execution_count": 752,
   "metadata": {},
   "outputs": [],
   "source": [
    "float()"
   ]
  },
  {
   "cell_type": "code",
   "execution_count": 753,
   "metadata": {},
   "outputs": [
    {
     "name": "stdout",
     "output_type": "stream",
     "text": [
      "2\n"
     ]
    }
   ],
   "source": [
    "if y:print('1')\n",
    "else: print('2')"
   ]
  },
  {
   "cell_type": "markdown",
   "metadata": {},
   "source": [
    "Verify zip"
   ]
  },
  {
   "cell_type": "code",
   "execution_count": 552,
   "metadata": {},
   "outputs": [
    {
     "data": {
      "text/plain": [
       "1"
      ]
     },
     "execution_count": 552,
     "metadata": {},
     "output_type": "execute_result"
    }
   ],
   "source": [
    "valid_zip(zip_input)"
   ]
  },
  {
   "cell_type": "code",
   "execution_count": 553,
   "metadata": {},
   "outputs": [
    {
     "data": {
      "text/plain": [
       "10003"
      ]
     },
     "execution_count": 553,
     "metadata": {},
     "output_type": "execute_result"
    }
   ],
   "source": [
    "zip_input = recombine_zip(zip_input)\n",
    "zip_input"
   ]
  },
  {
   "cell_type": "markdown",
   "metadata": {},
   "source": [
    "Input datetime"
   ]
  },
  {
   "cell_type": "code",
   "execution_count": 554,
   "metadata": {},
   "outputs": [],
   "source": [
    "date_now = dt.datetime.now()"
   ]
  },
  {
   "cell_type": "code",
   "execution_count": 555,
   "metadata": {},
   "outputs": [],
   "source": [
    "date_pred = [date_now - dt.timedelta(days=1)+dt.timedelta(days=i) for i in range(8)]"
   ]
  },
  {
   "cell_type": "code",
   "execution_count": 556,
   "metadata": {},
   "outputs": [
    {
     "data": {
      "text/plain": [
       "[8, 8, 8, 8, 8, 9, 9, 9]"
      ]
     },
     "execution_count": 556,
     "metadata": {},
     "output_type": "execute_result"
    }
   ],
   "source": [
    "month_pred = [item.month for item in date_pred]\n",
    "month_pred"
   ]
  },
  {
   "cell_type": "code",
   "execution_count": 557,
   "metadata": {},
   "outputs": [
    {
     "data": {
      "text/plain": [
       "[27, 28, 29, 30, 31, 1, 2, 3]"
      ]
     },
     "execution_count": 557,
     "metadata": {},
     "output_type": "execute_result"
    }
   ],
   "source": [
    "day_pred = [item.day for item in date_pred]\n",
    "day_pred"
   ]
  },
  {
   "cell_type": "code",
   "execution_count": null,
   "metadata": {},
   "outputs": [],
   "source": [
    "\n"
   ]
  },
  {
   "cell_type": "markdown",
   "metadata": {},
   "source": [
    "input weather data"
   ]
  },
  {
   "cell_type": "code",
   "execution_count": 558,
   "metadata": {},
   "outputs": [],
   "source": [
    "lat = lnglat_input[1]\n",
    "lng = lnglat_input[0]"
   ]
  },
  {
   "cell_type": "code",
   "execution_count": 715,
   "metadata": {},
   "outputs": [],
   "source": []
  },
  {
   "cell_type": "code",
   "execution_count": 311,
   "metadata": {},
   "outputs": [
    {
     "data": {
      "text/plain": [
       "1566938777"
      ]
     },
     "execution_count": 311,
     "metadata": {},
     "output_type": "execute_result"
    }
   ],
   "source": [
    "int((dt.datetime.now()- dt.datetime(1970,1,1)).total_seconds())"
   ]
  },
  {
   "cell_type": "code",
   "execution_count": 489,
   "metadata": {},
   "outputs": [],
   "source": [
    "weather_pred = get_weather_data(key,lat,lng)"
   ]
  },
  {
   "cell_type": "code",
   "execution_count": 490,
   "metadata": {},
   "outputs": [],
   "source": [
    "# weather_pred['year'] = dt.datetime.now().year\n",
    "# weather_pred['month'] = dt.datetime.now().month\n",
    "# weather_pred['day'] = dt.datetime.now().day"
   ]
  },
  {
   "cell_type": "code",
   "execution_count": 491,
   "metadata": {},
   "outputs": [],
   "source": [
    "weather_pred = weather_pred[['icon','apparentTemperatureHigh','apparentTemperatureLow','cloudCover','humidity','precipProbability',\n",
    "                     'pressure','visibility','windBearing','windGust','windSpeed']].reset_index(drop=True)"
   ]
  },
  {
   "cell_type": "code",
   "execution_count": 761,
   "metadata": {},
   "outputs": [
    {
     "data": {
      "text/plain": [
       "'75'"
      ]
     },
     "execution_count": 761,
     "metadata": {},
     "output_type": "execute_result"
    }
   ],
   "source": [
    "'{:.0f}'.format(sum(weather_pred.loc[1][1:3])/2)"
   ]
  },
  {
   "cell_type": "code",
   "execution_count": 772,
   "metadata": {},
   "outputs": [
    {
     "data": {
      "text/plain": [
       "'rain'"
      ]
     },
     "execution_count": 772,
     "metadata": {},
     "output_type": "execute_result"
    }
   ],
   "source": [
    "weather_pred.loc[1][0].replace('-',' ')"
   ]
  },
  {
   "cell_type": "markdown",
   "metadata": {},
   "source": [
    "Average the trip sum for test data: day average, keep all vendor density the same"
   ]
  },
  {
   "cell_type": "code",
   "execution_count": 548,
   "metadata": {},
   "outputs": [],
   "source": [
    "df_test = checkin_trip[checkin_trip['zip_code']==zip_input][0:8].reset_index(drop=True)"
   ]
  },
  {
   "cell_type": "code",
   "execution_count": 560,
   "metadata": {},
   "outputs": [],
   "source": [
    "df_test['month'] = month_pred\n",
    "df_test['day'] = day_pred"
   ]
  },
  {
   "cell_type": "code",
   "execution_count": 561,
   "metadata": {},
   "outputs": [],
   "source": []
  },
  {
   "cell_type": "code",
   "execution_count": 563,
   "metadata": {},
   "outputs": [],
   "source": [
    "df_test['trip_sum'] = update_tripsum(month_pred,zip_input)"
   ]
  },
  {
   "cell_type": "code",
   "execution_count": 534,
   "metadata": {},
   "outputs": [
    {
     "data": {
      "text/plain": [
       "21891.666666666668"
      ]
     },
     "execution_count": 534,
     "metadata": {},
     "output_type": "execute_result"
    }
   ],
   "source": [
    "np.mean(checkin_trip[(checkin_trip['zip_code']==zip_input) & (checkin_trip['month']==9)]['trip_sum'])"
   ]
  },
  {
   "cell_type": "markdown",
   "metadata": {},
   "source": [
    "Merge all prediction data"
   ]
  },
  {
   "cell_type": "code",
   "execution_count": 570,
   "metadata": {},
   "outputs": [],
   "source": [
    "df_test= pd.concat([df_test,weather_pred],axis=1)"
   ]
  },
  {
   "cell_type": "code",
   "execution_count": 577,
   "metadata": {},
   "outputs": [],
   "source": [
    "df_test['checkin_pred'] = rfr_pipe.predict(df_test)"
   ]
  },
  {
   "cell_type": "markdown",
   "metadata": {},
   "source": [
    "### Pipeline"
   ]
  },
  {
   "cell_type": "code",
   "execution_count": 735,
   "metadata": {},
   "outputs": [],
   "source": [
    "checkin_trip = pd.read_csv('checkin_trip_0828.csv')\n",
    "checkin_trip.drop('Unnamed: 0',axis=1,inplace=True)\n",
    "rfr_pipe =dill.load(open('rfr_pipe.dill', 'rb'))"
   ]
  },
  {
   "cell_type": "code",
   "execution_count": 736,
   "metadata": {},
   "outputs": [],
   "source": [
    "## Variable collection and verification\n",
    "\n",
    "#frontend input\n",
    "zip_input = 10003\n",
    "\n",
    "lnglat_input = [-73.990281,40.736213]\n",
    "zip_input = point_in_zip(lnglat_input)\n",
    "verify_zip(zip_input,lnglat_input)\n",
    "\n",
    "zip_input = recombine_zip(zip_input)\n",
    "\n",
    "lat = lnglat_input[1]\n",
    "lng = lnglat_input[0]\n",
    "\n",
    "#Date and time\n",
    "date_now = dt.datetime.now()\n",
    "date_pred = [date_now - dt.timedelta(days=1)+dt.timedelta(days=i) for i in range(8)]\n",
    "month_pred = [item.month for item in date_pred]\n",
    "day_pred = [item.day for item in date_pred]\n",
    "\n",
    "\n",
    "#Weather\n",
    "weather_pred = get_weather_data(lat,lng)\n",
    "weather_pred = weather_pred[['icon','apparentTemperatureHigh','apparentTemperatureLow','cloudCover','humidity','precipProbability',\n",
    "                     'pressure','visibility','windBearing','windGust','windSpeed']].reset_index(drop=True)\n",
    "\n"
   ]
  },
  {
   "cell_type": "code",
   "execution_count": 737,
   "metadata": {},
   "outputs": [],
   "source": [
    "## df_test \n",
    "df_test = checkin_trip[checkin_trip['zip_code']==zip_input][0:8].reset_index(drop=True)\n",
    "df_test['month'] = month_pred\n",
    "df_test['day'] = day_pred\n",
    "df_test['trip_sum'] = update_tripsum(month_pred,zip_input)\n",
    "# df_test= pd.concat([df_test,weather_pred],axis=1)\n",
    "df_test[['icon','apparentTemperatureHigh','apparentTemperatureLow','cloudCover','humidity','precipProbability',\n",
    "                     'pressure','visibility','windBearing','windGust','windSpeed']] = weather_pred[['icon','apparentTemperatureHigh','apparentTemperatureLow','cloudCover','humidity','precipProbability',\n",
    "                     'pressure','visibility','windBearing','windGust','windSpeed']]\n",
    "df_test['checkin_pred'] = rfr_pipe.predict(df_test.drop('checkin_sum',axis=1))\n"
   ]
  },
  {
   "cell_type": "code",
   "execution_count": 796,
   "metadata": {},
   "outputs": [
    {
     "data": {
      "text/plain": [
       "'Aug-27'"
      ]
     },
     "execution_count": 796,
     "metadata": {},
     "output_type": "execute_result"
    }
   ],
   "source": [
    "date_pred[0].strftime(\"%b-%d\")"
   ]
  },
  {
   "cell_type": "markdown",
   "metadata": {},
   "source": [
    "# Visualization"
   ]
  },
  {
   "cell_type": "markdown",
   "metadata": {},
   "source": [
    "## Prediction Viz"
   ]
  },
  {
   "cell_type": "code",
   "execution_count": 744,
   "metadata": {},
   "outputs": [],
   "source": [
    "pred_data = df_test[['year','month','day','icon','checkin_pred','apparentTemperatureHigh','apparentTemperatureLow']].copy()\n",
    "pred_data['year'] = date_now.year\n",
    "pred_data['date'] = pd.to_datetime(pred_data[['year','month', 'day']])\n",
    "pred_data['apparentTemperature'] = (pred_data['apparentTemperatureHigh'] + pred_data['apparentTemperatureLow'])/2"
   ]
  },
  {
   "cell_type": "code",
   "execution_count": 745,
   "metadata": {},
   "outputs": [
    {
     "data": {
      "text/html": [
       "<div>\n",
       "<style scoped>\n",
       "    .dataframe tbody tr th:only-of-type {\n",
       "        vertical-align: middle;\n",
       "    }\n",
       "\n",
       "    .dataframe tbody tr th {\n",
       "        vertical-align: top;\n",
       "    }\n",
       "\n",
       "    .dataframe thead th {\n",
       "        text-align: right;\n",
       "    }\n",
       "</style>\n",
       "<table border=\"1\" class=\"dataframe\">\n",
       "  <thead>\n",
       "    <tr style=\"text-align: right;\">\n",
       "      <th></th>\n",
       "      <th>year</th>\n",
       "      <th>month</th>\n",
       "      <th>day</th>\n",
       "      <th>icon</th>\n",
       "      <th>checkin_pred</th>\n",
       "      <th>apparentTemperatureHigh</th>\n",
       "      <th>apparentTemperatureLow</th>\n",
       "      <th>date</th>\n",
       "      <th>apparentTemperature</th>\n",
       "    </tr>\n",
       "  </thead>\n",
       "  <tbody>\n",
       "    <tr>\n",
       "      <th>0</th>\n",
       "      <td>2019</td>\n",
       "      <td>8</td>\n",
       "      <td>27</td>\n",
       "      <td>partly-cloudy-day</td>\n",
       "      <td>4.200000</td>\n",
       "      <td>74.66</td>\n",
       "      <td>66.82</td>\n",
       "      <td>2019-08-27</td>\n",
       "      <td>70.740</td>\n",
       "    </tr>\n",
       "    <tr>\n",
       "      <th>1</th>\n",
       "      <td>2019</td>\n",
       "      <td>8</td>\n",
       "      <td>28</td>\n",
       "      <td>rain</td>\n",
       "      <td>11.016667</td>\n",
       "      <td>83.42</td>\n",
       "      <td>67.49</td>\n",
       "      <td>2019-08-28</td>\n",
       "      <td>75.455</td>\n",
       "    </tr>\n",
       "    <tr>\n",
       "      <th>2</th>\n",
       "      <td>2019</td>\n",
       "      <td>8</td>\n",
       "      <td>29</td>\n",
       "      <td>partly-cloudy-day</td>\n",
       "      <td>14.330000</td>\n",
       "      <td>83.20</td>\n",
       "      <td>65.57</td>\n",
       "      <td>2019-08-29</td>\n",
       "      <td>74.385</td>\n",
       "    </tr>\n",
       "    <tr>\n",
       "      <th>3</th>\n",
       "      <td>2019</td>\n",
       "      <td>8</td>\n",
       "      <td>30</td>\n",
       "      <td>clear-day</td>\n",
       "      <td>11.046667</td>\n",
       "      <td>87.01</td>\n",
       "      <td>70.40</td>\n",
       "      <td>2019-08-30</td>\n",
       "      <td>78.705</td>\n",
       "    </tr>\n",
       "    <tr>\n",
       "      <th>4</th>\n",
       "      <td>2019</td>\n",
       "      <td>8</td>\n",
       "      <td>31</td>\n",
       "      <td>partly-cloudy-day</td>\n",
       "      <td>14.786667</td>\n",
       "      <td>82.68</td>\n",
       "      <td>65.70</td>\n",
       "      <td>2019-08-31</td>\n",
       "      <td>74.190</td>\n",
       "    </tr>\n",
       "    <tr>\n",
       "      <th>5</th>\n",
       "      <td>2019</td>\n",
       "      <td>9</td>\n",
       "      <td>1</td>\n",
       "      <td>cloudy</td>\n",
       "      <td>3.350000</td>\n",
       "      <td>79.90</td>\n",
       "      <td>65.80</td>\n",
       "      <td>2019-09-01</td>\n",
       "      <td>72.850</td>\n",
       "    </tr>\n",
       "    <tr>\n",
       "      <th>6</th>\n",
       "      <td>2019</td>\n",
       "      <td>9</td>\n",
       "      <td>2</td>\n",
       "      <td>partly-cloudy-day</td>\n",
       "      <td>3.950000</td>\n",
       "      <td>82.11</td>\n",
       "      <td>70.00</td>\n",
       "      <td>2019-09-02</td>\n",
       "      <td>76.055</td>\n",
       "    </tr>\n",
       "    <tr>\n",
       "      <th>7</th>\n",
       "      <td>2019</td>\n",
       "      <td>9</td>\n",
       "      <td>3</td>\n",
       "      <td>partly-cloudy-day</td>\n",
       "      <td>3.160000</td>\n",
       "      <td>85.37</td>\n",
       "      <td>73.38</td>\n",
       "      <td>2019-09-03</td>\n",
       "      <td>79.375</td>\n",
       "    </tr>\n",
       "  </tbody>\n",
       "</table>\n",
       "</div>"
      ],
      "text/plain": [
       "   year  month  day               icon  checkin_pred  apparentTemperatureHigh  \\\n",
       "0  2019      8   27  partly-cloudy-day      4.200000                    74.66   \n",
       "1  2019      8   28               rain     11.016667                    83.42   \n",
       "2  2019      8   29  partly-cloudy-day     14.330000                    83.20   \n",
       "3  2019      8   30          clear-day     11.046667                    87.01   \n",
       "4  2019      8   31  partly-cloudy-day     14.786667                    82.68   \n",
       "5  2019      9    1             cloudy      3.350000                    79.90   \n",
       "6  2019      9    2  partly-cloudy-day      3.950000                    82.11   \n",
       "7  2019      9    3  partly-cloudy-day      3.160000                    85.37   \n",
       "\n",
       "   apparentTemperatureLow       date  apparentTemperature  \n",
       "0                   66.82 2019-08-27               70.740  \n",
       "1                   67.49 2019-08-28               75.455  \n",
       "2                   65.57 2019-08-29               74.385  \n",
       "3                   70.40 2019-08-30               78.705  \n",
       "4                   65.70 2019-08-31               74.190  \n",
       "5                   65.80 2019-09-01               72.850  \n",
       "6                   70.00 2019-09-02               76.055  \n",
       "7                   73.38 2019-09-03               79.375  "
      ]
     },
     "execution_count": 745,
     "metadata": {},
     "output_type": "execute_result"
    }
   ],
   "source": [
    "pred_data"
   ]
  },
  {
   "cell_type": "code",
   "execution_count": 797,
   "metadata": {},
   "outputs": [],
   "source": [
    "step_pred = alt.Chart(pred_data,title=\"7-day Check-in Prediction\").mark_area(\n",
    "#     color=\"lightblue\",\n",
    "    interpolate='step',\n",
    "    line=False,\n",
    "    \n",
    ").encode(\n",
    "    x=alt.X('date:T', axis=alt.Axis(format = (\"%m-%d\"),title='Date')),\n",
    "    y=alt.Y('checkin_pred', axis=None),\n",
    "    tooltip=[alt.Tooltip('date', title='Date'),\n",
    "             alt.Tooltip('icon', title='Weather'),\n",
    "             alt.Tooltip('apparentTemperature', title='Apparent Temperature',format='.0f')],\n",
    "    color=alt.Color('day:N', scale=alt.Scale(scheme='lightmulti'), legend=None)\n",
    ")\n",
    "text = step_pred.mark_text(fontSize=18,\n",
    "    color = 'black',\n",
    "    align='center',\n",
    "    baseline='middle',\n",
    "    dy=-10,\n",
    "    dx=0  # Nudges text to right so it doesn't appear on top of the bar\n",
    ").encode(\n",
    "\n",
    "    text=alt.Text('checkin_pred',format='.1f')\n",
    ")\n",
    "pred_plot = alt.layer(step_pred, text).configure_view(\n",
    "    stroke='transparent'\n",
    ").configure_title(\n",
    "    fontSize=25\n",
    ").configure_axis(\n",
    "    domainWidth=0.8\n",
    ").configure_axis(\n",
    "    titleFontSize=16,\n",
    "    labelFontSize=12,\n",
    "    grid=False\n",
    ")\n",
    "# step_pred+text"
   ]
  },
  {
   "cell_type": "code",
   "execution_count": 798,
   "metadata": {},
   "outputs": [
    {
     "data": {
      "application/javascript": [
       "var spec = {\"config\": {\"view\": {\"width\": 400, \"height\": 300, \"stroke\": \"transparent\"}, \"mark\": {\"tooltip\": null}, \"axis\": {\"grid\": false, \"labelFontSize\": 12, \"titleFontSize\": 16}, \"title\": {\"fontSize\": 25}}, \"layer\": [{\"mark\": {\"type\": \"area\", \"interpolate\": \"step\", \"line\": false}, \"encoding\": {\"color\": {\"type\": \"nominal\", \"field\": \"day\", \"legend\": null, \"scale\": {\"scheme\": \"lightmulti\"}}, \"tooltip\": [{\"type\": \"temporal\", \"field\": \"date\", \"title\": \"Date\"}, {\"type\": \"nominal\", \"field\": \"icon\", \"title\": \"Weather\"}, {\"type\": \"quantitative\", \"field\": \"apparentTemperature\", \"format\": \".0f\", \"title\": \"Apparent Temperature\"}], \"x\": {\"type\": \"temporal\", \"axis\": {\"format\": \"%m-%d\", \"title\": \"Date\"}, \"field\": \"date\"}, \"y\": {\"type\": \"quantitative\", \"axis\": null, \"field\": \"checkin_pred\"}}, \"title\": \"7-day Check-in Prediction\"}, {\"mark\": {\"type\": \"text\", \"align\": \"center\", \"baseline\": \"middle\", \"color\": \"black\", \"dx\": 0, \"dy\": -10, \"fontSize\": 18}, \"encoding\": {\"color\": {\"type\": \"nominal\", \"field\": \"day\", \"legend\": null, \"scale\": {\"scheme\": \"lightmulti\"}}, \"text\": {\"type\": \"quantitative\", \"field\": \"checkin_pred\", \"format\": \".1f\"}, \"tooltip\": [{\"type\": \"temporal\", \"field\": \"date\", \"title\": \"Date\"}, {\"type\": \"nominal\", \"field\": \"icon\", \"title\": \"Weather\"}, {\"type\": \"quantitative\", \"field\": \"apparentTemperature\", \"format\": \".0f\", \"title\": \"Apparent Temperature\"}], \"x\": {\"type\": \"temporal\", \"axis\": {\"format\": \"%m-%d\", \"title\": \"Date\"}, \"field\": \"date\"}, \"y\": {\"type\": \"quantitative\", \"axis\": null, \"field\": \"checkin_pred\"}}, \"title\": \"7-day Check-in Prediction\"}], \"data\": {\"name\": \"data-f1543ff5c4dca754e1f14e336f428723\"}, \"$schema\": \"https://vega.github.io/schema/vega-lite/v3.3.0.json\", \"datasets\": {\"data-f1543ff5c4dca754e1f14e336f428723\": [{\"year\": 2019, \"month\": 8, \"day\": 27, \"icon\": \"partly-cloudy-day\", \"checkin_pred\": 4.2, \"apparentTemperatureHigh\": 74.66, \"apparentTemperatureLow\": 66.82, \"date\": \"2019-08-27T00:00:00\", \"apparentTemperature\": 70.74}, {\"year\": 2019, \"month\": 8, \"day\": 28, \"icon\": \"rain\", \"checkin_pred\": 11.016666666666667, \"apparentTemperatureHigh\": 83.42, \"apparentTemperatureLow\": 67.49, \"date\": \"2019-08-28T00:00:00\", \"apparentTemperature\": 75.455}, {\"year\": 2019, \"month\": 8, \"day\": 29, \"icon\": \"partly-cloudy-day\", \"checkin_pred\": 14.33, \"apparentTemperatureHigh\": 83.2, \"apparentTemperatureLow\": 65.57, \"date\": \"2019-08-29T00:00:00\", \"apparentTemperature\": 74.38499999999999}, {\"year\": 2019, \"month\": 8, \"day\": 30, \"icon\": \"clear-day\", \"checkin_pred\": 11.046666666666667, \"apparentTemperatureHigh\": 87.01, \"apparentTemperatureLow\": 70.4, \"date\": \"2019-08-30T00:00:00\", \"apparentTemperature\": 78.70500000000001}, {\"year\": 2019, \"month\": 8, \"day\": 31, \"icon\": \"partly-cloudy-day\", \"checkin_pred\": 14.786666666666667, \"apparentTemperatureHigh\": 82.68, \"apparentTemperatureLow\": 65.7, \"date\": \"2019-08-31T00:00:00\", \"apparentTemperature\": 74.19}, {\"year\": 2019, \"month\": 9, \"day\": 1, \"icon\": \"cloudy\", \"checkin_pred\": 3.35, \"apparentTemperatureHigh\": 79.9, \"apparentTemperatureLow\": 65.8, \"date\": \"2019-09-01T00:00:00\", \"apparentTemperature\": 72.85}, {\"year\": 2019, \"month\": 9, \"day\": 2, \"icon\": \"partly-cloudy-day\", \"checkin_pred\": 3.95, \"apparentTemperatureHigh\": 82.11, \"apparentTemperatureLow\": 70.0, \"date\": \"2019-09-02T00:00:00\", \"apparentTemperature\": 76.055}, {\"year\": 2019, \"month\": 9, \"day\": 3, \"icon\": \"partly-cloudy-day\", \"checkin_pred\": 3.16, \"apparentTemperatureHigh\": 85.37, \"apparentTemperatureLow\": 73.38, \"date\": \"2019-09-03T00:00:00\", \"apparentTemperature\": 79.375}]}};\n",
       "var opt = {};\n",
       "var type = \"vega-lite\";\n",
       "var id = \"5f7659e0-dedd-4433-9105-d880ba7689b9\";\n",
       "\n",
       "var output_area = this;\n",
       "\n",
       "require([\"nbextensions/jupyter-vega/index\"], function(vega) {\n",
       "  var target = document.createElement(\"div\");\n",
       "  target.id = id;\n",
       "  target.className = \"vega-embed\";\n",
       "\n",
       "  var style = document.createElement(\"style\");\n",
       "  style.textContent = [\n",
       "    \".vega-embed .error p {\",\n",
       "    \"  color: firebrick;\",\n",
       "    \"  font-size: 14px;\",\n",
       "    \"}\",\n",
       "  ].join(\"\\\\n\");\n",
       "\n",
       "  // element is a jQuery wrapped DOM element inside the output area\n",
       "  // see http://ipython.readthedocs.io/en/stable/api/generated/\\\n",
       "  // IPython.display.html#IPython.display.Javascript.__init__\n",
       "  element[0].appendChild(target);\n",
       "  element[0].appendChild(style);\n",
       "\n",
       "  vega.render(\"#\" + id, spec, type, opt, output_area);\n",
       "}, function (err) {\n",
       "  if (err.requireType !== \"scripterror\") {\n",
       "    throw(err);\n",
       "  }\n",
       "});\n"
      ],
      "text/plain": [
       "<vega.vegalite.VegaLite at 0x7f3d8dc1b160>"
      ]
     },
     "metadata": {
      "jupyter-vega": "#5f7659e0-dedd-4433-9105-d880ba7689b9"
     },
     "output_type": "display_data"
    },
    {
     "data": {
      "text/plain": []
     },
     "execution_count": 798,
     "metadata": {},
     "output_type": "execute_result"
    },
    {
     "data": {
      "image/png": "[encoded data removed]"
     },
     "metadata": {
      "jupyter-vega": "#5f7659e0-dedd-4433-9105-d880ba7689b9"
     },
     "output_type": "display_data"
    }
   ],
   "source": [
    "pred_plot"
   ]
  },
  {
   "cell_type": "markdown",
   "metadata": {},
   "source": [
    "## Historical Data Viz "
   ]
  },
  {
   "cell_type": "code",
   "execution_count": 395,
   "metadata": {},
   "outputs": [],
   "source": [
    "m = folium.Map(location=[40.75, -73.90],zoom_start=10)"
   ]
  },
  {
   "cell_type": "code",
   "execution_count": 410,
   "metadata": {},
   "outputs": [],
   "source": [
    "ctplot_data = pd.DataFrame(checkin_trip.groupby(['zip_code'])['checkin_sum','trip_sum'].mean())"
   ]
  },
  {
   "cell_type": "code",
   "execution_count": 411,
   "metadata": {},
   "outputs": [],
   "source": [
    "gpd_zip['ZIPCODE'] = gpd_zip['ZIPCODE'].apply(lambda x: int(x))"
   ]
  },
  {
   "cell_type": "code",
   "execution_count": 412,
   "metadata": {},
   "outputs": [],
   "source": [
    "ctplot_data  = ctplot_data .merge(gpd_zip[['ZIPCODE','geometry']],left_on = 'zip_code',right_on = 'ZIPCODE',how = 'left')"
   ]
  },
  {
   "cell_type": "code",
   "execution_count": 413,
   "metadata": {},
   "outputs": [],
   "source": [
    "ctplot_data = gpd.GeoDataFrame(ctplot_data)\n",
    "ctplot_data.crs = {'init':'epsg:4326'}"
   ]
  },
  {
   "cell_type": "code",
   "execution_count": 414,
   "metadata": {},
   "outputs": [],
   "source": [
    "ctplot_json = ctplot_data.to_json()"
   ]
  },
  {
   "cell_type": "code",
   "execution_count": 415,
   "metadata": {},
   "outputs": [
    {
     "data": {
      "text/plain": [
       "<folium.map.LayerControl at 0x7f3d8fb37358>"
      ]
     },
     "execution_count": 415,
     "metadata": {},
     "output_type": "execute_result"
    }
   ],
   "source": [
    "m1 = folium.Map(location=[40.75, -73.90],zoom_start=11,width=750, height=500)\n",
    "# feature_group_b = folium.FeatureGroup(name='Brooklyn_layer')\n",
    "# feature_group_m = folium.FeatureGroup(name='Mahantta_layer')\n",
    "\n",
    "\n",
    "folium.Choropleth(geo_data=ctplot_json,\n",
    "                   data=ctplot_data,\n",
    "                   columns=['ZIPCODE', 'checkin_sum'],\n",
    "                   key_on='feature.properties.ZIPCODE',\n",
    "#                    name='Manhattan,Brooklyn and Queens',\n",
    "                   name='NYC',\n",
    "                   fill_color = 'YlOrRd',\n",
    "                   fill_opacity=0.7,\n",
    "                   line_opacity=0.2,\n",
    "                   legend_name='Check-in Density',\n",
    "                   tooltip=['features.properties.ZIPCODE:Q','features.properties.checkin_num:Q']\n",
    "                \n",
    "                   ).add_to(m1)\n",
    "folium.GeoJson(ctplot_json,\n",
    "                name='Check-in Info',\n",
    "                tooltip=folium.features.GeoJsonTooltip(fields=['ZIPCODE','checkin_sum','trip_sum'],\n",
    "                                                       aliases=['Zipcode:','Daily check-ins','Daily taxi trips']),\n",
    "                style_function=lambda x:{'color':'#00000000'}).add_to(m1)\n",
    "# folium.Choropleth(geo_data=weekend_b,\n",
    "#                    data=aggre_weekend,\n",
    "#                    columns=['ZIPCODE', 'checkin_sum'],\n",
    "#                    key_on='feature.properties.ZIPCODE',\n",
    "#                    name='Brooklyn',\n",
    "#                    fill_color = 'YlOrRd',\n",
    "#                    fill_opacity=0.7,\n",
    "#                    line_opacity=0.2,\n",
    "#                    legend_name='Check-in Density'\n",
    "#                    ).add_to(feature_group_b).add_to(m1)\n",
    "\n",
    "# folium.Choropleth(geo_data=weekend_q,\n",
    "#                    data=aggre_weekend,\n",
    "#                    columns=['ZIPCODE', 'checkin_sum'],\n",
    "#                    key_on='feature.properties.ZIPCODE',\n",
    "#                    name='Queens',\n",
    "#                    fill_color = 'YlOrRd',\n",
    "#                    fill_opacity=0.7,\n",
    "#                    line_opacity=0.2,\n",
    "#                    legend_name='Check-in Density'\n",
    "#                    ).add_to(m1)\n",
    "# feature_group_m.add_to(m)\n",
    "# feature_group_b.add_to(m)\n",
    "folium.LayerControl().add_to(m1)\n",
    "# folium.features.GeoJsonTooltip(['ZIPCODE']).add_to(m1)\n",
    "\n",
    "# m1"
   ]
  },
  {
   "cell_type": "code",
   "execution_count": 416,
   "metadata": {},
   "outputs": [],
   "source": [
    "m1.save(\"ctplot_nyc.html\")\n",
    "m1.save(\"ctplot_nyc.json\")"
   ]
  },
  {
   "cell_type": "code",
   "execution_count": null,
   "metadata": {},
   "outputs": [],
   "source": []
  }
 ],
 "metadata": {
  "kernelspec": {
   "display_name": "cap_lly",
   "language": "python",
   "name": "cap_lly"
  },
  "language_info": {
   "codemirror_mode": {
    "name": "ipython",
    "version": 3
   },
   "file_extension": ".py",
   "mimetype": "text/x-python",
   "name": "python",
   "nbconvert_exporter": "python",
   "pygments_lexer": "ipython3",
   "version": "3.6.2"
  }
 },
 "nbformat": 4,
 "nbformat_minor": 2
}
